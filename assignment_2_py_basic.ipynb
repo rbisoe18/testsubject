{
 "cells": [
  {
   "cell_type": "markdown",
   "metadata": {
    "id": "UCPgHPyR9LC7"
   },
   "source": [
    "Assignment_2"
   ]
  },
  {
   "cell_type": "markdown",
   "metadata": {
    "id": "WWt5C22I9Omm"
   },
   "source": [
    "\n",
    "\n",
    "---\n",
    "\n"
   ]
  },
  {
   "cell_type": "markdown",
   "metadata": {
    "id": "MF57pHju9P5E"
   },
   "source": [
    "1.What are the two values of the Boolean data type? How do you write them?"
   ]
  },
  {
   "cell_type": "markdown",
   "metadata": {
    "id": "DDWJ6SDw9Tdk"
   },
   "source": [
    "Ans :"
   ]
  },
  {
   "cell_type": "markdown",
   "metadata": {
    "id": "zcfHaPmy9sPV"
   },
   "source": [
    "Python boolean type is one of the built-in data types provided by Python, which represents one of the two values i.e. True or False. Generally, it is used to represent the truth values of the expressions. For example, 1==1 is True whereas 2<1 is False."
   ]
  },
  {
   "cell_type": "code",
   "execution_count": 1,
   "metadata": {
    "colab": {
     "base_uri": "https://localhost:8080/"
    },
    "id": "hzApnbPLAxXO",
    "outputId": "83bf9f59-f69b-4b2d-bb9a-25aabcd3e33c"
   },
   "outputs": [
    {
     "name": "stdout",
     "output_type": "stream",
     "text": [
      "True\n",
      "False\n"
     ]
    }
   ],
   "source": [
    "#Eg:\n",
    "a=True\n",
    "b=False\n",
    "print(a)\n",
    "print(b)"
   ]
  },
  {
   "cell_type": "markdown",
   "metadata": {
    "id": "U08_eLR29tb0"
   },
   "source": [
    "\n",
    "\n",
    "---\n",
    "\n"
   ]
  },
  {
   "cell_type": "markdown",
   "metadata": {
    "id": "IirWawnX9unH"
   },
   "source": [
    "2. What are the three different types of Boolean operators?"
   ]
  },
  {
   "cell_type": "markdown",
   "metadata": {
    "id": "dXt3YkZm96Gc"
   },
   "source": [
    "Ans :"
   ]
  },
  {
   "cell_type": "markdown",
   "metadata": {
    "id": "-oj5mtiW9871"
   },
   "source": [
    "There are three basic Boolean search commands: AND, OR and NOT.\n",
    "\n",
    "* AND searches find all of the search terms.  For example, searching on dengue AND malaria AND zika  returns only results that contain all three search terms.  Very limited results.\n",
    "\n",
    "* OR searches find one term or the other.  Searching on dengue OR malaria OR zika returns all items that contain any of the three search terms.  Returns a large number of results.\n",
    "\n",
    "* NOT eliminates items that contain the specified term.  Searching on malaria NOT zika returns items that are about malaria, but will specifically NOT return items that contain the word zika.  This is a way to fine-tune results. Note:  sometimes AND NOT is used;  serves the same function as NOT.\n"
   ]
  },
  {
   "cell_type": "markdown",
   "metadata": {
    "id": "CkdLjvUV9-qt"
   },
   "source": [
    "\n",
    "\n",
    "---\n",
    "\n"
   ]
  },
  {
   "cell_type": "markdown",
   "metadata": {
    "id": "X_B5q1Fw_R4s"
   },
   "source": [
    "3. Make a list of each Boolean operator's truth tables (i.e. every possible combination of Boolean values for the operator and what it evaluate."
   ]
  },
  {
   "cell_type": "markdown",
   "metadata": {
    "id": "yonB5SLc_W6k"
   },
   "source": [
    "Ans :"
   ]
  },
  {
   "cell_type": "markdown",
   "metadata": {
    "id": "jeIZ4e_s_Y1c"
   },
   "source": [
    "### **AND Boolean Operator**\n",
    "|condition|condition|condition|\n",
    "|:-:|:-:|:-:|\n",
    "| **True** |True|True|\n",
    "| **True** |False|False|\n",
    "| **False** |True|False|\n",
    "| **False** |False|False|\n",
    "\n",
    "### **OR Boolean Operator**\n",
    "|condition|condition|condition|\n",
    "|:-:|:-:|:-:|\n",
    "| **True** |True|True|\n",
    "| **True** |False|True|\n",
    "| **False** |True|True|\n",
    "| **False** |False|False|\n",
    "\n",
    "### **NOT Boolean Operator**\n",
    "|condition|condition|\n",
    "|:-:|:-:|\n",
    "| **True** |False|\n",
    "| **False** |True|"
   ]
  },
  {
   "cell_type": "markdown",
   "metadata": {
    "id": "STCNWQCRFjfU"
   },
   "source": [
    "\n",
    "\n",
    "---\n",
    "\n"
   ]
  },
  {
   "cell_type": "markdown",
   "metadata": {
    "id": "yL4LFOCDFknQ"
   },
   "source": [
    "4. What are the values of the following expressions?\n",
    "\n",
    "*  (5 > 4) and (3 == 5)\n",
    "* not (5 > 4)\n",
    "* (5 > 4) or (3 == 5)\n",
    "* not ((5 > 4) or (3 == 5))\n",
    "* (True and True) and (True == False)\n",
    "* (not False) or (not True)\n"
   ]
  },
  {
   "cell_type": "markdown",
   "metadata": {
    "id": "wGujxvtVGi58"
   },
   "source": [
    "Ans :"
   ]
  },
  {
   "cell_type": "code",
   "execution_count": 2,
   "metadata": {
    "colab": {
     "base_uri": "https://localhost:8080/"
    },
    "id": "NmIdQ3LE_YUU",
    "outputId": "fc134506-f9d5-4f80-de02-a46010f19467"
   },
   "outputs": [
    {
     "name": "stdout",
     "output_type": "stream",
     "text": [
      "False\n",
      "False\n",
      "True\n",
      "False\n",
      "False\n",
      "True\n"
     ]
    }
   ],
   "source": [
    "print((5>4) and (3==5))\n",
    "print(not(5>4))\n",
    "print((5>4) or (3==5))\n",
    "print(not(5>4) or (3==5))\n",
    "print((True and True) and (True==False))\n",
    "print((not(False))or(not(True)))"
   ]
  },
  {
   "cell_type": "markdown",
   "metadata": {
    "id": "One2QskzGdwN"
   },
   "source": [
    "\n",
    "\n",
    "---\n",
    "\n"
   ]
  },
  {
   "cell_type": "markdown",
   "metadata": {
    "id": "gJ4xI-gTGers"
   },
   "source": [
    "5. What are the six comparison operators?"
   ]
  },
  {
   "cell_type": "markdown",
   "metadata": {
    "id": "GZUFPmIoIkR0"
   },
   "source": [
    "Ans : "
   ]
  },
  {
   "cell_type": "markdown",
   "metadata": {
    "id": "ClMjPIbHGiG8"
   },
   "source": [
    "* equal to (==)\n",
    "* not equal to (!=)\n",
    "* greater than (>)\n",
    "* greater than or equal to (>=)\n",
    "* less than (<)\n",
    "* less than or equal to (<=)"
   ]
  },
  {
   "cell_type": "markdown",
   "metadata": {
    "id": "ZG54sSxsJN6t"
   },
   "source": [
    "\n",
    "\n",
    "---\n",
    "\n"
   ]
  },
  {
   "cell_type": "markdown",
   "metadata": {
    "id": "kMVFMmKGJQxt"
   },
   "source": [
    "6. How do you tell the difference between the equal to and assignment operators?Describe a condition and when you would use one."
   ]
  },
  {
   "cell_type": "markdown",
   "metadata": {
    "id": "w-F0PgXBJisd"
   },
   "source": [
    "Ans :"
   ]
  },
  {
   "cell_type": "markdown",
   "metadata": {
    "id": "ig5Z_07VJkB1"
   },
   "source": [
    "== is the equal to operator that compares two values and evaluates to a Boolean, while = is the assignment operator that stores a value in a variable."
   ]
  },
  {
   "cell_type": "code",
   "execution_count": 3,
   "metadata": {
    "colab": {
     "base_uri": "https://localhost:8080/"
    },
    "id": "6zNNKs1lJk4f",
    "outputId": "d6c3e6df-359b-4041-8573-a74376d80077"
   },
   "outputs": [
    {
     "name": "stdout",
     "output_type": "stream",
     "text": [
      "False\n",
      "a = 1\n"
     ]
    }
   ],
   "source": [
    "# Equal To Operator\n",
    "if(2==3):\n",
    "    print(\"True\")\n",
    "else:\n",
    "    print(\"False\")\n",
    "#Assignment operator\n",
    "a=1 #here we have used assignment operator(=) to assign value of a which is 1\n",
    "print(\"a =\",a)"
   ]
  },
  {
   "cell_type": "markdown",
   "metadata": {
    "id": "0sOmPZXkSvG9"
   },
   "source": [
    "\n",
    "\n",
    "---\n",
    "\n"
   ]
  },
  {
   "cell_type": "markdown",
   "metadata": {
    "id": "zn5UdptkSvzl"
   },
   "source": [
    "7. Identify the three blocks in this code:\n",
    "* \n",
    "spam = 0\n",
    "if spam == 10:\n",
    "print('eggs')\n",
    "if spam > 5:\n",
    "print('bacon')\n",
    "else:\n",
    "print('ham')\n",
    "print('spam')\n",
    "print('spam')\n"
   ]
  },
  {
   "cell_type": "code",
   "execution_count": 4,
   "metadata": {
    "colab": {
     "base_uri": "https://localhost:8080/"
    },
    "id": "DSUwjxLbTS-9",
    "outputId": "eb997f01-5ca3-4e25-abbe-1da2ee77935a"
   },
   "outputs": [
    {
     "name": "stdout",
     "output_type": "stream",
     "text": [
      "ham\n",
      "spam\n",
      "spam\n"
     ]
    }
   ],
   "source": [
    "spam = 0\n",
    "if spam == 10:\n",
    "  print('eggs')\n",
    "if spam > 5:\n",
    "  print('bacon')\n",
    "else:\n",
    "  print('ham')\n",
    "  print('spam')\n",
    "  print('spam')\n"
   ]
  },
  {
   "cell_type": "markdown",
   "metadata": {
    "id": "stIVOtMuTli2"
   },
   "source": [
    "\n",
    "\n",
    "---\n",
    "\n"
   ]
  },
  {
   "cell_type": "markdown",
   "metadata": {
    "id": "_CJFmDl4TmOt"
   },
   "source": [
    "8. Write code that prints Hello if 1 is stored in spam, prints Howdy if 2 is stored in spam, and prints Greetings! if anything else is stored in spam."
   ]
  },
  {
   "cell_type": "markdown",
   "metadata": {
    "id": "k9zhzwDTTnD8"
   },
   "source": [
    "ANS "
   ]
  },
  {
   "cell_type": "code",
   "execution_count": 7,
   "metadata": {
    "colab": {
     "base_uri": "https://localhost:8080/"
    },
    "id": "MysxMB4nU3o1",
    "outputId": "9fdba11e-4e06-4242-df3c-8f283931c4bf"
   },
   "outputs": [
    {
     "name": "stdout",
     "output_type": "stream",
     "text": [
      "Input a no: 1\n",
      "Hello\n"
     ]
    }
   ],
   "source": [
    "spam = int(input(\"Input a no: \"))\n",
    "if spam == 1:\n",
    "    print(\"Hello\")\n",
    "elif spam == 2:\n",
    "    print(\"Howdy\")\n",
    "else:\n",
    "    print(\"Greetings!\")\n",
    "        "
   ]
  },
  {
   "cell_type": "code",
   "execution_count": 8,
   "metadata": {
    "colab": {
     "base_uri": "https://localhost:8080/"
    },
    "id": "st84dLkpU-w-",
    "outputId": "742d4d41-b9b9-4488-a231-93790d796b50"
   },
   "outputs": [
    {
     "name": "stdout",
     "output_type": "stream",
     "text": [
      "Input a no: 2\n",
      "Howdy\n"
     ]
    }
   ],
   "source": [
    "spam = int(input(\"Input a no: \"))\n",
    "if spam == 1:\n",
    "    print(\"Hello\")\n",
    "elif spam == 2:\n",
    "    print(\"Howdy\")\n",
    "else:\n",
    "    print(\"Greetings!\")\n",
    "        "
   ]
  },
  {
   "cell_type": "code",
   "execution_count": 9,
   "metadata": {
    "colab": {
     "base_uri": "https://localhost:8080/"
    },
    "id": "r-rZG1Y7VApt",
    "outputId": "aa71eb43-d9c1-4dbc-b5f1-7cb9c7f3a89a"
   },
   "outputs": [
    {
     "name": "stdout",
     "output_type": "stream",
     "text": [
      "Input a no: 45\n",
      "Greetings!\n"
     ]
    }
   ],
   "source": [
    "spam = int(input(\"Input a no: \"))\n",
    "if spam == 1:\n",
    "    print(\"Hello\")\n",
    "elif spam == 2:\n",
    "    print(\"Howdy\")\n",
    "else:\n",
    "    print(\"Greetings!\")\n",
    "        "
   ]
  },
  {
   "cell_type": "markdown",
   "metadata": {
    "id": "B8xJ-hJyVGnM"
   },
   "source": [
    "\n",
    "\n",
    "---\n",
    "\n"
   ]
  },
  {
   "cell_type": "markdown",
   "metadata": {
    "id": "MX1GRJQAVHf1"
   },
   "source": [
    "9.If your programme is stuck in an endless loop, what keys you’ll press?"
   ]
  },
  {
   "cell_type": "markdown",
   "metadata": {
    "id": "bm5yDTFmVLcH"
   },
   "source": [
    "ANS :  If program is stuck in endless loop we will press ctrl+c."
   ]
  },
  {
   "cell_type": "markdown",
   "metadata": {
    "id": "RVrQMbRjVRT1"
   },
   "source": [
    "\n",
    "\n",
    "---\n",
    "\n"
   ]
  },
  {
   "cell_type": "markdown",
   "metadata": {
    "id": "AQon9tbwVNzd"
   },
   "source": [
    "10. How can you tell the difference between break and continue?"
   ]
  },
  {
   "cell_type": "markdown",
   "metadata": {
    "id": "ZPqGAOUcY_70"
   },
   "source": [
    "Ans: The break statement will move the execution outside and just after a loop. The continue statement will move the execution to the start of the loop."
   ]
  },
  {
   "cell_type": "code",
   "execution_count": 14,
   "metadata": {
    "colab": {
     "base_uri": "https://localhost:8080/"
    },
    "id": "aKCwmw2mVQru",
    "outputId": "98f2a1d8-85bf-4827-c6d7-94db7803f5ec"
   },
   "outputs": [
    {
     "name": "stdout",
     "output_type": "stream",
     "text": [
      "0\n",
      "1\n",
      "2\n",
      "3\n",
      "4\n",
      "Breaked\n",
      "0\n",
      "1\n",
      "2\n",
      "3\n",
      "4\n",
      "6\n",
      "7\n",
      "8\n",
      "9\n"
     ]
    }
   ],
   "source": [
    "# use of break\n",
    "for i in range(10):\n",
    "    if(i==5):\n",
    "        break\n",
    "    print(i)\n",
    "    \n",
    "print('Breaked')\n",
    "#use of  continue\n",
    "for i in range(10):\n",
    "    if(i==5):\n",
    "        continue\n",
    "    print(i)"
   ]
  },
  {
   "cell_type": "markdown",
   "metadata": {
    "id": "pz2BClWrZZjF"
   },
   "source": [
    "\n",
    "\n",
    "---\n",
    "\n"
   ]
  },
  {
   "cell_type": "markdown",
   "metadata": {
    "id": "QoSzjzw8ZKsm"
   },
   "source": [
    "11. In a for loop, what is the difference between range(10), range(0, 10), and range(0, 10, 1)?"
   ]
  },
  {
   "cell_type": "markdown",
   "metadata": {
    "id": "j5ORLh_7ZRHN"
   },
   "source": [
    "Ans: From the above output we can conclude that they all do the same thing. The range(10) call ranges from 0 up to (but not including) 10, range(0, 10) tells the loop to start at 0, and range(0, 10, 1) tells the loop to increase the variable by 1 on each iteration."
   ]
  },
  {
   "cell_type": "code",
   "execution_count": 15,
   "metadata": {
    "colab": {
     "base_uri": "https://localhost:8080/"
    },
    "id": "IHELBo5fZSu4",
    "outputId": "5fcb0798-c648-4d29-b88f-1f76acd43156"
   },
   "outputs": [
    {
     "name": "stdout",
     "output_type": "stream",
     "text": [
      "0\n",
      "1\n",
      "2\n",
      "3\n",
      "4\n",
      "5\n",
      "6\n",
      "7\n",
      "8\n",
      "9\n",
      "---------------------------------------------------------------------------------------\n",
      "0\n",
      "1\n",
      "2\n",
      "3\n",
      "4\n",
      "5\n",
      "6\n",
      "7\n",
      "8\n",
      "9\n",
      "---------------------------------------------------------------------------------------\n",
      "0\n",
      "1\n",
      "2\n",
      "3\n",
      "4\n",
      "5\n",
      "6\n",
      "7\n",
      "8\n",
      "9\n"
     ]
    }
   ],
   "source": [
    "for i in range(10):\n",
    "    print(i)\n",
    "print(\"---------------------------------------------------------------------------------------\") \n",
    "for j in range(0,10):\n",
    "    print(j)\n",
    "print(\"---------------------------------------------------------------------------------------\")\n",
    "for k in range(0,10,1):\n",
    "    print(k)"
   ]
  },
  {
   "cell_type": "markdown",
   "metadata": {
    "id": "FfJD2iUZqIpn"
   },
   "source": [
    "\n",
    "\n",
    "---\n",
    "\n"
   ]
  },
  {
   "cell_type": "markdown",
   "metadata": {
    "id": "3kSYIyaUapqt"
   },
   "source": [
    "12. Write a short program that prints the numbers 1 to 10 using a for loop. Then write an equivalent program that prints the numbers 1 to 10 using a while loop."
   ]
  },
  {
   "cell_type": "code",
   "execution_count": 18,
   "metadata": {
    "colab": {
     "base_uri": "https://localhost:8080/"
    },
    "id": "vmbXmFkye8AN",
    "outputId": "8c8b732a-b490-487d-ec26-2a8a3f41dab8"
   },
   "outputs": [
    {
     "name": "stdout",
     "output_type": "stream",
     "text": [
      "1\n",
      "2\n",
      "3\n",
      "4\n",
      "5\n",
      "6\n",
      "7\n",
      "8\n",
      "9\n",
      "10\n"
     ]
    }
   ],
   "source": [
    "for i in range(1,11):\n",
    "  print(i)\n",
    "\n",
    "print(\"-------------\")"
   ]
  },
  {
   "cell_type": "code",
   "execution_count": 20,
   "metadata": {
    "colab": {
     "base_uri": "https://localhost:8080/"
    },
    "id": "aQwnHyhQps12",
    "outputId": "106ea322-8516-4585-9881-cbaf28d4ad4a"
   },
   "outputs": [
    {
     "name": "stdout",
     "output_type": "stream",
     "text": [
      "1\n",
      "2\n",
      "3\n",
      "4\n",
      "5\n",
      "6\n",
      "7\n",
      "8\n",
      "9\n",
      "10\n"
     ]
    }
   ],
   "source": [
    "j = 10\n",
    "i = 1 \n",
    "\n",
    "while i <= j:\n",
    "  print(f\"{i}\")\n",
    "  i = i + 1\n"
   ]
  },
  {
   "cell_type": "markdown",
   "metadata": {
    "id": "Yb4aB-TBqifG"
   },
   "source": [
    "13. If you had a function named bacon() inside a module named spam, how would you call it after importing spam?"
   ]
  },
  {
   "cell_type": "markdown",
   "metadata": {
    "id": "kEACDIU5qjaW"
   },
   "source": [
    "Ans : This function can be called with spam.bacon()"
   ]
  }
 ],
 "metadata": {
  "colab": {
   "collapsed_sections": [],
   "provenance": []
  },
  "kernelspec": {
   "display_name": "Python 3 (ipykernel)",
   "language": "python",
   "name": "python3"
  },
  "language_info": {
   "codemirror_mode": {
    "name": "ipython",
    "version": 3
   },
   "file_extension": ".py",
   "mimetype": "text/x-python",
   "name": "python",
   "nbconvert_exporter": "python",
   "pygments_lexer": "ipython3",
   "version": "3.10.6"
  }
 },
 "nbformat": 4,
 "nbformat_minor": 4
}
