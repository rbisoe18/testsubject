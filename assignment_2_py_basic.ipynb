{
  "nbformat": 4,
  "nbformat_minor": 0,
  "metadata": {
    "colab": {
      "provenance": [],
      "collapsed_sections": []
    },
    "kernelspec": {
      "name": "python3",
      "display_name": "Python 3"
    },
    "language_info": {
      "name": "python"
    }
  },
  "cells": [
    {
      "cell_type": "markdown",
      "source": [
        "Assignment_2"
      ],
      "metadata": {
        "id": "UCPgHPyR9LC7"
      }
    },
    {
      "cell_type": "markdown",
      "source": [
        "\n",
        "\n",
        "---\n",
        "\n"
      ],
      "metadata": {
        "id": "WWt5C22I9Omm"
      }
    },
    {
      "cell_type": "markdown",
      "source": [
        "1.What are the two values of the Boolean data type? How do you write them?"
      ],
      "metadata": {
        "id": "MF57pHju9P5E"
      }
    },
    {
      "cell_type": "markdown",
      "source": [
        "Ans :"
      ],
      "metadata": {
        "id": "DDWJ6SDw9Tdk"
      }
    },
    {
      "cell_type": "markdown",
      "source": [
        "Python boolean type is one of the built-in data types provided by Python, which represents one of the two values i.e. True or False. Generally, it is used to represent the truth values of the expressions. For example, 1==1 is True whereas 2<1 is False."
      ],
      "metadata": {
        "id": "zcfHaPmy9sPV"
      }
    },
    {
      "cell_type": "code",
      "source": [
        "#Eg:\n",
        "a=True\n",
        "b=False\n",
        "print(a)\n",
        "print(b)"
      ],
      "metadata": {
        "colab": {
          "base_uri": "https://localhost:8080/"
        },
        "id": "hzApnbPLAxXO",
        "outputId": "83bf9f59-f69b-4b2d-bb9a-25aabcd3e33c"
      },
      "execution_count": 1,
      "outputs": [
        {
          "output_type": "stream",
          "name": "stdout",
          "text": [
            "True\n",
            "False\n"
          ]
        }
      ]
    },
    {
      "cell_type": "markdown",
      "source": [
        "\n",
        "\n",
        "---\n",
        "\n"
      ],
      "metadata": {
        "id": "U08_eLR29tb0"
      }
    },
    {
      "cell_type": "markdown",
      "source": [
        "2. What are the three different types of Boolean operators?"
      ],
      "metadata": {
        "id": "IirWawnX9unH"
      }
    },
    {
      "cell_type": "markdown",
      "source": [
        "Ans :"
      ],
      "metadata": {
        "id": "dXt3YkZm96Gc"
      }
    },
    {
      "cell_type": "markdown",
      "source": [
        "There are three basic Boolean search commands: AND, OR and NOT.\n",
        "\n",
        "* AND searches find all of the search terms.  For example, searching on dengue AND malaria AND zika  returns only results that contain all three search terms.  Very limited results.\n",
        "\n",
        "* OR searches find one term or the other.  Searching on dengue OR malaria OR zika returns all items that contain any of the three search terms.  Returns a large number of results.\n",
        "\n",
        "* NOT eliminates items that contain the specified term.  Searching on malaria NOT zika returns items that are about malaria, but will specifically NOT return items that contain the word zika.  This is a way to fine-tune results. Note:  sometimes AND NOT is used;  serves the same function as NOT.\n"
      ],
      "metadata": {
        "id": "-oj5mtiW9871"
      }
    },
    {
      "cell_type": "markdown",
      "source": [
        "\n",
        "\n",
        "---\n",
        "\n"
      ],
      "metadata": {
        "id": "CkdLjvUV9-qt"
      }
    },
    {
      "cell_type": "markdown",
      "source": [
        "3. Make a list of each Boolean operator's truth tables (i.e. every possible combination of Boolean values for the operator and what it evaluate."
      ],
      "metadata": {
        "id": "X_B5q1Fw_R4s"
      }
    },
    {
      "cell_type": "markdown",
      "source": [
        "Ans :"
      ],
      "metadata": {
        "id": "yonB5SLc_W6k"
      }
    },
    {
      "cell_type": "markdown",
      "source": [
        "### **AND Boolean Operator**\n",
        "|condition|condition|condition|\n",
        "|:-:|:-:|:-:|\n",
        "| **True** |True|True|\n",
        "| **True** |False|False|\n",
        "| **False** |True|False|\n",
        "| **False** |False|False|\n",
        "\n",
        "### **OR Boolean Operator**\n",
        "|condition|condition|condition|\n",
        "|:-:|:-:|:-:|\n",
        "| **True** |True|True|\n",
        "| **True** |False|True|\n",
        "| **False** |True|True|\n",
        "| **False** |False|False|\n",
        "\n",
        "### **NOT Boolean Operator**\n",
        "|condition|condition|\n",
        "|:-:|:-:|\n",
        "| **True** |False|\n",
        "| **False** |True|"
      ],
      "metadata": {
        "id": "jeIZ4e_s_Y1c"
      }
    },
    {
      "cell_type": "markdown",
      "source": [
        "\n",
        "\n",
        "---\n",
        "\n"
      ],
      "metadata": {
        "id": "STCNWQCRFjfU"
      }
    },
    {
      "cell_type": "markdown",
      "source": [
        "4. What are the values of the following expressions?\n",
        "\n",
        "*  (5 > 4) and (3 == 5)\n",
        "* not (5 > 4)\n",
        "* (5 > 4) or (3 == 5)\n",
        "* not ((5 > 4) or (3 == 5))\n",
        "* (True and True) and (True == False)\n",
        "* (not False) or (not True)\n"
      ],
      "metadata": {
        "id": "yL4LFOCDFknQ"
      }
    },
    {
      "cell_type": "markdown",
      "source": [
        "Ans :"
      ],
      "metadata": {
        "id": "wGujxvtVGi58"
      }
    },
    {
      "cell_type": "code",
      "source": [
        "print((5>4) and (3==5))\n",
        "print(not(5>4))\n",
        "print((5>4) or (3==5))\n",
        "print(not(5>4) or (3==5))\n",
        "print((True and True) and (True==False))\n",
        "print((not(False))or(not(True)))"
      ],
      "metadata": {
        "colab": {
          "base_uri": "https://localhost:8080/"
        },
        "id": "NmIdQ3LE_YUU",
        "outputId": "fc134506-f9d5-4f80-de02-a46010f19467"
      },
      "execution_count": 2,
      "outputs": [
        {
          "output_type": "stream",
          "name": "stdout",
          "text": [
            "False\n",
            "False\n",
            "True\n",
            "False\n",
            "False\n",
            "True\n"
          ]
        }
      ]
    },
    {
      "cell_type": "markdown",
      "source": [
        "\n",
        "\n",
        "---\n",
        "\n"
      ],
      "metadata": {
        "id": "One2QskzGdwN"
      }
    },
    {
      "cell_type": "markdown",
      "source": [
        "5. What are the six comparison operators?"
      ],
      "metadata": {
        "id": "gJ4xI-gTGers"
      }
    },
    {
      "cell_type": "markdown",
      "source": [
        "Ans : "
      ],
      "metadata": {
        "id": "GZUFPmIoIkR0"
      }
    },
    {
      "cell_type": "markdown",
      "source": [
        "* equal to (==)\n",
        "* not equal to (!=)\n",
        "* greater than (>)\n",
        "* greater than or equal to (>=)\n",
        "* less than (<)\n",
        "* less than or equal to (<=)"
      ],
      "metadata": {
        "id": "ClMjPIbHGiG8"
      }
    },
    {
      "cell_type": "markdown",
      "source": [
        "\n",
        "\n",
        "---\n",
        "\n"
      ],
      "metadata": {
        "id": "ZG54sSxsJN6t"
      }
    },
    {
      "cell_type": "markdown",
      "source": [
        "6. How do you tell the difference between the equal to and assignment operators?Describe a condition and when you would use one."
      ],
      "metadata": {
        "id": "kMVFMmKGJQxt"
      }
    },
    {
      "cell_type": "markdown",
      "source": [
        "Ans :"
      ],
      "metadata": {
        "id": "w-F0PgXBJisd"
      }
    },
    {
      "cell_type": "markdown",
      "source": [
        "== is the equal to operator that compares two values and evaluates to a Boolean, while = is the assignment operator that stores a value in a variable."
      ],
      "metadata": {
        "id": "ig5Z_07VJkB1"
      }
    },
    {
      "cell_type": "code",
      "source": [
        "# Equal To Operator\n",
        "if(2==3):\n",
        "    print(\"True\")\n",
        "else:\n",
        "    print(\"False\")\n",
        "#Assignment operator\n",
        "a=1 #here we have used assignment operator(=) to assign value of a which is 1\n",
        "print(\"a =\",a)"
      ],
      "metadata": {
        "colab": {
          "base_uri": "https://localhost:8080/"
        },
        "id": "6zNNKs1lJk4f",
        "outputId": "d6c3e6df-359b-4041-8573-a74376d80077"
      },
      "execution_count": 3,
      "outputs": [
        {
          "output_type": "stream",
          "name": "stdout",
          "text": [
            "False\n",
            "a = 1\n"
          ]
        }
      ]
    },
    {
      "cell_type": "markdown",
      "source": [
        "\n",
        "\n",
        "---\n",
        "\n"
      ],
      "metadata": {
        "id": "0sOmPZXkSvG9"
      }
    },
    {
      "cell_type": "markdown",
      "source": [
        "7. Identify the three blocks in this code:\n",
        "* \n",
        "spam = 0\n",
        "if spam == 10:\n",
        "print('eggs')\n",
        "if spam > 5:\n",
        "print('bacon')\n",
        "else:\n",
        "print('ham')\n",
        "print('spam')\n",
        "print('spam')\n"
      ],
      "metadata": {
        "id": "zn5UdptkSvzl"
      }
    },
    {
      "cell_type": "code",
      "source": [
        "spam = 0\n",
        "if spam == 10:\n",
        "  print('eggs')\n",
        "if spam > 5:\n",
        "  print('bacon')\n",
        "else:\n",
        "  print('ham')\n",
        "  print('spam')\n",
        "  print('spam')\n"
      ],
      "metadata": {
        "colab": {
          "base_uri": "https://localhost:8080/"
        },
        "id": "DSUwjxLbTS-9",
        "outputId": "eb997f01-5ca3-4e25-abbe-1da2ee77935a"
      },
      "execution_count": 4,
      "outputs": [
        {
          "output_type": "stream",
          "name": "stdout",
          "text": [
            "ham\n",
            "spam\n",
            "spam\n"
          ]
        }
      ]
    },
    {
      "cell_type": "markdown",
      "source": [
        "\n",
        "\n",
        "---\n",
        "\n"
      ],
      "metadata": {
        "id": "stIVOtMuTli2"
      }
    },
    {
      "cell_type": "markdown",
      "source": [
        "8. Write code that prints Hello if 1 is stored in spam, prints Howdy if 2 is stored in spam, and prints Greetings! if anything else is stored in spam."
      ],
      "metadata": {
        "id": "_CJFmDl4TmOt"
      }
    },
    {
      "cell_type": "markdown",
      "source": [
        "ANS "
      ],
      "metadata": {
        "id": "k9zhzwDTTnD8"
      }
    },
    {
      "cell_type": "code",
      "source": [
        "spam = int(input(\"Input a no: \"))\n",
        "if spam == 1:\n",
        "    print(\"Hello\")\n",
        "elif spam == 2:\n",
        "    print(\"Howdy\")\n",
        "else:\n",
        "    print(\"Greetings!\")\n",
        "        "
      ],
      "metadata": {
        "colab": {
          "base_uri": "https://localhost:8080/"
        },
        "id": "MysxMB4nU3o1",
        "outputId": "9fdba11e-4e06-4242-df3c-8f283931c4bf"
      },
      "execution_count": 7,
      "outputs": [
        {
          "output_type": "stream",
          "name": "stdout",
          "text": [
            "Input a no: 1\n",
            "Hello\n"
          ]
        }
      ]
    },
    {
      "cell_type": "code",
      "source": [
        "spam = int(input(\"Input a no: \"))\n",
        "if spam == 1:\n",
        "    print(\"Hello\")\n",
        "elif spam == 2:\n",
        "    print(\"Howdy\")\n",
        "else:\n",
        "    print(\"Greetings!\")\n",
        "        "
      ],
      "metadata": {
        "colab": {
          "base_uri": "https://localhost:8080/"
        },
        "id": "st84dLkpU-w-",
        "outputId": "742d4d41-b9b9-4488-a231-93790d796b50"
      },
      "execution_count": 8,
      "outputs": [
        {
          "output_type": "stream",
          "name": "stdout",
          "text": [
            "Input a no: 2\n",
            "Howdy\n"
          ]
        }
      ]
    },
    {
      "cell_type": "code",
      "source": [
        "spam = int(input(\"Input a no: \"))\n",
        "if spam == 1:\n",
        "    print(\"Hello\")\n",
        "elif spam == 2:\n",
        "    print(\"Howdy\")\n",
        "else:\n",
        "    print(\"Greetings!\")\n",
        "        "
      ],
      "metadata": {
        "colab": {
          "base_uri": "https://localhost:8080/"
        },
        "id": "r-rZG1Y7VApt",
        "outputId": "aa71eb43-d9c1-4dbc-b5f1-7cb9c7f3a89a"
      },
      "execution_count": 9,
      "outputs": [
        {
          "output_type": "stream",
          "name": "stdout",
          "text": [
            "Input a no: 45\n",
            "Greetings!\n"
          ]
        }
      ]
    },
    {
      "cell_type": "markdown",
      "source": [
        "\n",
        "\n",
        "---\n",
        "\n"
      ],
      "metadata": {
        "id": "B8xJ-hJyVGnM"
      }
    },
    {
      "cell_type": "markdown",
      "source": [
        "9.If your programme is stuck in an endless loop, what keys you’ll press?"
      ],
      "metadata": {
        "id": "MX1GRJQAVHf1"
      }
    },
    {
      "cell_type": "markdown",
      "source": [
        "ANS :  If program is stuck in endless loop we will press ctrl+c."
      ],
      "metadata": {
        "id": "bm5yDTFmVLcH"
      }
    },
    {
      "cell_type": "markdown",
      "source": [
        "\n",
        "\n",
        "---\n",
        "\n"
      ],
      "metadata": {
        "id": "RVrQMbRjVRT1"
      }
    },
    {
      "cell_type": "markdown",
      "source": [
        "10. How can you tell the difference between break and continue?"
      ],
      "metadata": {
        "id": "AQon9tbwVNzd"
      }
    },
    {
      "cell_type": "markdown",
      "source": [
        "Ans: The break statement will move the execution outside and just after a loop. The continue statement will move the execution to the start of the loop."
      ],
      "metadata": {
        "id": "ZPqGAOUcY_70"
      }
    },
    {
      "cell_type": "code",
      "source": [
        "# use of break\n",
        "for i in range(10):\n",
        "    if(i==5):\n",
        "        break\n",
        "    print(i)\n",
        "    \n",
        "print('Breaked')\n",
        "#use of  continue\n",
        "for i in range(10):\n",
        "    if(i==5):\n",
        "        continue\n",
        "    print(i)"
      ],
      "metadata": {
        "colab": {
          "base_uri": "https://localhost:8080/"
        },
        "id": "aKCwmw2mVQru",
        "outputId": "98f2a1d8-85bf-4827-c6d7-94db7803f5ec"
      },
      "execution_count": 14,
      "outputs": [
        {
          "output_type": "stream",
          "name": "stdout",
          "text": [
            "0\n",
            "1\n",
            "2\n",
            "3\n",
            "4\n",
            "Breaked\n",
            "0\n",
            "1\n",
            "2\n",
            "3\n",
            "4\n",
            "6\n",
            "7\n",
            "8\n",
            "9\n"
          ]
        }
      ]
    },
    {
      "cell_type": "markdown",
      "source": [
        "\n",
        "\n",
        "---\n",
        "\n"
      ],
      "metadata": {
        "id": "pz2BClWrZZjF"
      }
    },
    {
      "cell_type": "markdown",
      "source": [
        "11. In a for loop, what is the difference between range(10), range(0, 10), and range(0, 10, 1)?"
      ],
      "metadata": {
        "id": "QoSzjzw8ZKsm"
      }
    },
    {
      "cell_type": "markdown",
      "source": [
        "Ans: From the above output we can conclude that they all do the same thing. The range(10) call ranges from 0 up to (but not including) 10, range(0, 10) tells the loop to start at 0, and range(0, 10, 1) tells the loop to increase the variable by 1 on each iteration."
      ],
      "metadata": {
        "id": "j5ORLh_7ZRHN"
      }
    },
    {
      "cell_type": "code",
      "source": [
        "for i in range(10):\n",
        "    print(i)\n",
        "print(\"---------------------------------------------------------------------------------------\") \n",
        "for j in range(0,10):\n",
        "    print(j)\n",
        "print(\"---------------------------------------------------------------------------------------\")\n",
        "for k in range(0,10,1):\n",
        "    print(k)"
      ],
      "metadata": {
        "colab": {
          "base_uri": "https://localhost:8080/"
        },
        "id": "IHELBo5fZSu4",
        "outputId": "5fcb0798-c648-4d29-b88f-1f76acd43156"
      },
      "execution_count": 15,
      "outputs": [
        {
          "output_type": "stream",
          "name": "stdout",
          "text": [
            "0\n",
            "1\n",
            "2\n",
            "3\n",
            "4\n",
            "5\n",
            "6\n",
            "7\n",
            "8\n",
            "9\n",
            "---------------------------------------------------------------------------------------\n",
            "0\n",
            "1\n",
            "2\n",
            "3\n",
            "4\n",
            "5\n",
            "6\n",
            "7\n",
            "8\n",
            "9\n",
            "---------------------------------------------------------------------------------------\n",
            "0\n",
            "1\n",
            "2\n",
            "3\n",
            "4\n",
            "5\n",
            "6\n",
            "7\n",
            "8\n",
            "9\n"
          ]
        }
      ]
    },
    {
      "cell_type": "markdown",
      "source": [
        "\n",
        "\n",
        "---\n",
        "\n"
      ],
      "metadata": {
        "id": "FfJD2iUZqIpn"
      }
    },
    {
      "cell_type": "markdown",
      "source": [
        "12. Write a short program that prints the numbers 1 to 10 using a for loop. Then write an equivalent program that prints the numbers 1 to 10 using a while loop."
      ],
      "metadata": {
        "id": "3kSYIyaUapqt"
      }
    },
    {
      "cell_type": "code",
      "source": [
        "for i in range(1,11):\n",
        "  print(i)\n",
        "\n",
        "print(\"-------------\")"
      ],
      "metadata": {
        "colab": {
          "base_uri": "https://localhost:8080/"
        },
        "id": "vmbXmFkye8AN",
        "outputId": "8c8b732a-b490-487d-ec26-2a8a3f41dab8"
      },
      "execution_count": 18,
      "outputs": [
        {
          "output_type": "stream",
          "name": "stdout",
          "text": [
            "1\n",
            "2\n",
            "3\n",
            "4\n",
            "5\n",
            "6\n",
            "7\n",
            "8\n",
            "9\n",
            "10\n"
          ]
        }
      ]
    },
    {
      "cell_type": "code",
      "source": [
        "j = 10\n",
        "i = 1 \n",
        "\n",
        "while i <= j:\n",
        "  print(f\"{i}\")\n",
        "  i = i + 1\n"
      ],
      "metadata": {
        "colab": {
          "base_uri": "https://localhost:8080/"
        },
        "id": "aQwnHyhQps12",
        "outputId": "106ea322-8516-4585-9881-cbaf28d4ad4a"
      },
      "execution_count": 20,
      "outputs": [
        {
          "output_type": "stream",
          "name": "stdout",
          "text": [
            "1\n",
            "2\n",
            "3\n",
            "4\n",
            "5\n",
            "6\n",
            "7\n",
            "8\n",
            "9\n",
            "10\n"
          ]
        }
      ]
    },
    {
      "cell_type": "markdown",
      "source": [
        "13. If you had a function named bacon() inside a module named spam, how would you call it after importing spam?"
      ],
      "metadata": {
        "id": "Yb4aB-TBqifG"
      }
    },
    {
      "cell_type": "markdown",
      "source": [
        "Ans : This function can be called with spam.bacon()"
      ],
      "metadata": {
        "id": "kEACDIU5qjaW"
      }
    }
  ]
}