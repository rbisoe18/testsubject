{
  "nbformat": 4,
  "nbformat_minor": 0,
  "metadata": {
    "colab": {
      "provenance": []
    },
    "kernelspec": {
      "name": "python3",
      "display_name": "Python 3"
    },
    "language_info": {
      "name": "python"
    }
  },
  "cells": [
    {
      "cell_type": "markdown",
      "source": [
        "# 1. Why are functions advantageous to have in your programs?"
      ],
      "metadata": {
        "id": "n1w88-dULjLS"
      }
    },
    {
      "cell_type": "markdown",
      "source": [
        "1. Functions reduce the need for duplicate code. This makes programs shorter, easier to read, and easier to update.\n",
        "2. Reusability: Functions allow you to write modular and reusable code.\n",
        "3. Abstraction: Functions provide a level of abstraction by encapsulating a set of operations into a single unit.\n",
        "4. Readability :  Functions promote code readability by giving meaningful names to operations or tasks.\n",
        "5. Modularity: Functions enable you to divide your program into smaller, independent modules."
      ],
      "metadata": {
        "id": "UcXjHtwHLoYJ"
      }
    },
    {
      "cell_type": "markdown",
      "source": [
        "# 2. When does the code in a function run: when it's specified or when it's called?"
      ],
      "metadata": {
        "id": "EYLzZzTyLp9y"
      }
    },
    {
      "cell_type": "markdown",
      "source": [
        "Once the function is called, the program execution jumps to the function's body, and the code inside the function is executed sequentially from top to bottom. The function can perform calculations, manipulate data, interact with the program's state, and return a result or perform some action."
      ],
      "metadata": {
        "id": "31YihbYWLvfa"
      }
    },
    {
      "cell_type": "markdown",
      "source": [
        "# 3. What statement creates a function?"
      ],
      "metadata": {
        "id": "UWzwHwBnLzC6"
      }
    },
    {
      "cell_type": "code",
      "execution_count": null,
      "metadata": {
        "id": "rbotjl7VJ4qf"
      },
      "outputs": [],
      "source": [
        "In Python, the keyword def is used to define a function. \n",
        "\n",
        "def function_name(parameters):\n",
        "    # Function body\n",
        "    # Code to be executed\n",
        "    # Return statement (optional)\n"
      ]
    },
    {
      "cell_type": "markdown",
      "source": [
        "# 4. What is the difference between a function and a function call?"
      ],
      "metadata": {
        "id": "7gGNu4xoL3qm"
      }
    },
    {
      "cell_type": "markdown",
      "source": [
        "a function is the definition or blueprint of a task, while a function call is the actual execution or use of that function in the program. The function call triggers the execution of the code inside the function, allowing you to utilize the functionality provided by the function."
      ],
      "metadata": {
        "id": "Wuu7zPsVL8FV"
      }
    },
    {
      "cell_type": "markdown",
      "source": [
        "# 5. How many global scopes are there in a Python program? How many local scopes?"
      ],
      "metadata": {
        "id": "QSLwlkVtL9Ea"
      }
    },
    {
      "cell_type": "markdown",
      "source": [
        "a Python program has one global scope that exists throughout the entire program, and local scopes are created whenever functions or code blocks are executed, allowing variables to have local visibility within those specific scopes."
      ],
      "metadata": {
        "id": "LF_86qoBMDNc"
      }
    },
    {
      "cell_type": "markdown",
      "source": [
        "# 6. What happens to variables in a local scope when the function call returns?"
      ],
      "metadata": {
        "id": "B7OSZ-jNMGUT"
      }
    },
    {
      "cell_type": "markdown",
      "source": [
        "Returning from a function means that the program execution resumes after the point of the function call, and the local scope associated with that function is discarded. Any data stored in local variables within the function is no longer accessible "
      ],
      "metadata": {
        "id": "qMM8_ZCnMJNz"
      }
    },
    {
      "cell_type": "markdown",
      "source": [
        "# 7. What is the concept of a return value? Is it possible to have a return value in an expression?"
      ],
      "metadata": {
        "id": "YdIzn6M8MLzJ"
      }
    },
    {
      "cell_type": "markdown",
      "source": [
        "a return value is the value that a function provides as output when it is executed. It allows functions to pass data back to the caller, and it is possible to use a function's return value directly in expressions."
      ],
      "metadata": {
        "id": "rZbw8n5yMOSi"
      }
    },
    {
      "cell_type": "markdown",
      "source": [
        "# 8. If a function does not have a return statement, what is the return value of a call to that function?"
      ],
      "metadata": {
        "id": "2woz2SW8MQoZ"
      }
    },
    {
      "cell_type": "markdown",
      "source": [
        "If a function does not have a return statement, the return value of a call to that function is None.\n",
        "\n",
        "In Python, when a function reaches the end without encountering a return statement or if the return statement is without any value, the function automatically returns None. "
      ],
      "metadata": {
        "id": "QuT4luUeMUIS"
      }
    },
    {
      "cell_type": "markdown",
      "source": [
        "# 9. How do you make a function variable refer to the global variable?"
      ],
      "metadata": {
        "id": "GEHACwKvMXSa"
      }
    },
    {
      "cell_type": "markdown",
      "source": [
        "To make a function variable refer to a global variable in Python, you can use the global keyword before the variable name within the function. This keyword allows you to indicate that you want to use the global variable instead of creating a new local variable with the same name."
      ],
      "metadata": {
        "id": "0ypM0B7_MZ5y"
      }
    },
    {
      "cell_type": "markdown",
      "source": [
        "# 10. What is the data type of None?"
      ],
      "metadata": {
        "id": "wn4WkKLWMa0b"
      }
    },
    {
      "cell_type": "markdown",
      "source": [
        "The data type of None in Python is NoneType.\n",
        "None represents the absence of a value or the lack of a value. It is a special object in Python used to indicate the absence or nullness of data."
      ],
      "metadata": {
        "id": "WRkmhfsHMfZS"
      }
    },
    {
      "cell_type": "markdown",
      "source": [
        "# 11. What does the sentence import areallyourpetsnamederic do?"
      ],
      "metadata": {
        "id": "pBUgw1BLMh5C"
      }
    },
    {
      "cell_type": "markdown",
      "source": [
        "# 12. If you had a bacon() feature in a spam module, what would you call it after importing spam?"
      ],
      "metadata": {
        "id": "FW6aRVX7MlxK"
      }
    },
    {
      "cell_type": "markdown",
      "source": [
        "the \"spam\" module is imported, and the \"bacon()\" function from the \"spam\" module is called using the syntax spam.bacon(). This executes the code inside the \"bacon()\" function and performs its intended functionality."
      ],
      "metadata": {
        "id": "SeOXA-7tMoaS"
      }
    },
    {
      "cell_type": "markdown",
      "source": [
        "# 13. What can you do to save a programme from crashing if it encounters an error?"
      ],
      "metadata": {
        "id": "gudSTnPWMqpu"
      }
    },
    {
      "cell_type": "markdown",
      "source": [
        "In Python, you can use a try-except block to catch and handle exceptions. The try block contains the code that might raise an error, and the except block specifies how to handle the error if it occurs.\n",
        "implementing error handling with try-except blocks allows you to catch and handle exceptions, preventing your program from crashing and enabling you to handle errors in a controlled manner."
      ],
      "metadata": {
        "id": "IFVkXOJLMuTJ"
      }
    },
    {
      "cell_type": "markdown",
      "source": [
        "# 14. What is the purpose of the try clause? What is the purpose of the except clause?"
      ],
      "metadata": {
        "id": "7yhKqRV8Mwyc"
      }
    },
    {
      "cell_type": "markdown",
      "source": [
        "the try clause encloses code that may raise an exception, providing a protective barrier, while the except clause defines the code to be executed when a specific exception occurs. Together, they enable you to handle exceptions and ensure the smooth execution of your program, even in the presence of errors."
      ],
      "metadata": {
        "id": "fHr7l_IvM0Ix"
      }
    }
  ]
}