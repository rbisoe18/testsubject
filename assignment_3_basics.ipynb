{
  "cells": [
    {
      "cell_type": "markdown",
      "id": "f16d38cf-ac48-4028-9d63-fe796b50d5b4",
      "metadata": {
        "id": "f16d38cf-ac48-4028-9d63-fe796b50d5b4"
      },
      "source": [
        "# 1. Why are functions advantageous to have in your programs?"
      ]
    },
    {
      "cell_type": "raw",
      "id": "ec96d6f5-028d-44a4-88ca-33c17bab0bfa",
      "metadata": {
        "id": "ec96d6f5-028d-44a4-88ca-33c17bab0bfa"
      },
      "source": [
        "1. Functions reduce the need for duplicate code. This makes programs shorter, easier to read, and easier to update.\n",
        "2. Reusability: Functions allow you to write modular and reusable code.\n",
        "3. Abstraction: Functions provide a level of abstraction by encapsulating a set of operations into a single unit.\n",
        "4. Readability :  Functions promote code readability by giving meaningful names to operations or tasks.\n",
        "5. Modularity: Functions enable you to divide your program into smaller, independent modules."
      ]
    },
    {
      "cell_type": "markdown",
      "id": "ed0ab5ff-6bc9-435b-92fa-7b02b38c19a2",
      "metadata": {
        "id": "ed0ab5ff-6bc9-435b-92fa-7b02b38c19a2"
      },
      "source": [
        "# 2. When does the code in a function run: when it&#39;s specified or when it&#39;s called?"
      ]
    },
    {
      "cell_type": "raw",
      "id": "a21d1fd7-652f-45ca-bb03-91cb9566beaa",
      "metadata": {
        "id": "a21d1fd7-652f-45ca-bb03-91cb9566beaa"
      },
      "source": [
        "Once the function is called, the program execution jumps to the function's body, and the code inside the function is executed sequentially from top to bottom. The function can perform calculations, manipulate data, interact with the program's state, and return a result or perform some action."
      ]
    },
    {
      "cell_type": "markdown",
      "id": "54b849a6-7b3b-49e6-a246-2a114149e484",
      "metadata": {
        "id": "54b849a6-7b3b-49e6-a246-2a114149e484"
      },
      "source": [
        "# 3. What statement creates a function?"
      ]
    },
    {
      "cell_type": "code",
      "execution_count": null,
      "id": "8c74fbea-5014-41fd-9718-a410db978475",
      "metadata": {
        "id": "8c74fbea-5014-41fd-9718-a410db978475"
      },
      "outputs": [],
      "source": [
        "In Python, the keyword def is used to define a function. \n",
        "\n",
        "def function_name(parameters):\n",
        "    # Function body\n",
        "    # Code to be executed\n",
        "    # Return statement (optional)\n"
      ]
    },
    {
      "cell_type": "markdown",
      "id": "deb3c76d-974a-466e-a679-9fb69e2f5bba",
      "metadata": {
        "id": "deb3c76d-974a-466e-a679-9fb69e2f5bba"
      },
      "source": [
        "# 4. What is the difference between a function and a function call?"
      ]
    },
    {
      "cell_type": "markdown",
      "id": "13aa1fdb-13aa-4b96-8bcf-e1b9c93e7bd7",
      "metadata": {
        "id": "13aa1fdb-13aa-4b96-8bcf-e1b9c93e7bd7"
      },
      "source": [
        "a function is the definition or blueprint of a task, while a function call is the actual execution or use of that function in the program. The function call triggers the execution of the code inside the function, allowing you to utilize the functionality provided by the function."
      ]
    },
    {
      "cell_type": "markdown",
      "id": "0ae3a70d-a164-40ff-8c8b-3f2f1fc674f1",
      "metadata": {
        "id": "0ae3a70d-a164-40ff-8c8b-3f2f1fc674f1"
      },
      "source": [
        "# 5. How many global scopes are there in a Python program? How many local scopes?"
      ]
    },
    {
      "cell_type": "raw",
      "id": "6328944d-74a3-4291-ae2d-4d610332e81e",
      "metadata": {
        "id": "6328944d-74a3-4291-ae2d-4d610332e81e"
      },
      "source": [
        "a Python program has one global scope that exists throughout the entire program, and local scopes are created whenever functions or code blocks are executed, allowing variables to have local visibility within those specific scopes."
      ]
    },
    {
      "cell_type": "markdown",
      "id": "954d72b8-82eb-4571-acf7-b41a84c92a8c",
      "metadata": {
        "id": "954d72b8-82eb-4571-acf7-b41a84c92a8c"
      },
      "source": [
        "# 6. What happens to variables in a local scope when the function call returns?"
      ]
    },
    {
      "cell_type": "raw",
      "id": "f1715955-d47f-4002-a61d-ae9bb534dbd2",
      "metadata": {
        "id": "f1715955-d47f-4002-a61d-ae9bb534dbd2"
      },
      "source": [
        "Returning from a function means that the program execution resumes after the point of the function call, and the local scope associated with that function is discarded. Any data stored in local variables within the function is no longer accessible "
      ]
    },
    {
      "cell_type": "markdown",
      "id": "e104b639-5423-4487-a93f-4cf600013520",
      "metadata": {
        "id": "e104b639-5423-4487-a93f-4cf600013520"
      },
      "source": [
        "# 7. What is the concept of a return value? Is it possible to have a return value in an expression?"
      ]
    },
    {
      "cell_type": "raw",
      "id": "e30765c0-ee93-407c-a03e-ea654116ed78",
      "metadata": {
        "id": "e30765c0-ee93-407c-a03e-ea654116ed78"
      },
      "source": [
        "a return value is the value that a function provides as output when it is executed. It allows functions to pass data back to the caller, and it is possible to use a function's return value directly in expressions."
      ]
    },
    {
      "cell_type": "markdown",
      "id": "9d1ebf51-6683-4449-9bb7-7c4b07b0da5d",
      "metadata": {
        "id": "9d1ebf51-6683-4449-9bb7-7c4b07b0da5d"
      },
      "source": [
        "# 8. If a function does not have a return statement, what is the return value of a call to that function?"
      ]
    },
    {
      "cell_type": "raw",
      "id": "8e45c90d-db45-489f-bc98-332bf489ecff",
      "metadata": {
        "id": "8e45c90d-db45-489f-bc98-332bf489ecff"
      },
      "source": [
        "If a function does not have a return statement, the return value of a call to that function is None.\n",
        "\n",
        "In Python, when a function reaches the end without encountering a return statement or if the return statement is without any value, the function automatically returns None. "
      ]
    },
    {
      "cell_type": "markdown",
      "id": "53a2de6d-98cc-47fd-a098-0993c675b776",
      "metadata": {
        "id": "53a2de6d-98cc-47fd-a098-0993c675b776"
      },
      "source": [
        "# 9. How do you make a function variable refer to the global variable?"
      ]
    },
    {
      "cell_type": "raw",
      "id": "c4123194-454a-407d-8bbb-be1e43d8ad67",
      "metadata": {
        "id": "c4123194-454a-407d-8bbb-be1e43d8ad67"
      },
      "source": [
        "To make a function variable refer to a global variable in Python, you can use the global keyword before the variable name within the function. This keyword allows you to indicate that you want to use the global variable instead of creating a new local variable with the same name."
      ]
    },
    {
      "cell_type": "markdown",
      "id": "fffe38b0-42dc-438d-8fd5-c79dab05c89b",
      "metadata": {
        "id": "fffe38b0-42dc-438d-8fd5-c79dab05c89b"
      },
      "source": [
        "# 10. What is the data type of None?"
      ]
    },
    {
      "cell_type": "raw",
      "id": "efa935f8-6ce1-4bd0-9833-3fb68e0c72d3",
      "metadata": {
        "id": "efa935f8-6ce1-4bd0-9833-3fb68e0c72d3"
      },
      "source": [
        "The data type of None in Python is NoneType.\n",
        "None represents the absence of a value or the lack of a value. It is a special object in Python used to indicate the absence or nullness of data."
      ]
    },
    {
      "cell_type": "markdown",
      "id": "b81f58e3-3e9c-46c4-82b1-a8fd3a3d4a55",
      "metadata": {
        "id": "b81f58e3-3e9c-46c4-82b1-a8fd3a3d4a55"
      },
      "source": [
        "# 11. What does the sentence import areallyourpetsnamederic do?"
      ]
    },
    {
      "cell_type": "markdown",
      "id": "7a3b7403-7685-4eb7-a2d1-43bfc1c30fe4",
      "metadata": {
        "id": "7a3b7403-7685-4eb7-a2d1-43bfc1c30fe4"
      },
      "source": [
        "# 12. If you had a bacon() feature in a spam module, what would you call it after importing spam?"
      ]
    },
    {
      "cell_type": "raw",
      "id": "48c3e196-a90a-4c06-b10a-48c267b050b8",
      "metadata": {
        "id": "48c3e196-a90a-4c06-b10a-48c267b050b8"
      },
      "source": [
        "the \"spam\" module is imported, and the \"bacon()\" function from the \"spam\" module is called using the syntax spam.bacon(). This executes the code inside the \"bacon()\" function and performs its intended functionality."
      ]
    },
    {
      "cell_type": "markdown",
      "id": "a345c36b-a638-40a1-929f-c5f0c8c9a9c9",
      "metadata": {
        "id": "a345c36b-a638-40a1-929f-c5f0c8c9a9c9"
      },
      "source": [
        "# 13. What can you do to save a programme from crashing if it encounters an error?"
      ]
    },
    {
      "cell_type": "raw",
      "id": "3c8c67c8-b5c0-47f6-a663-18b2d6d9b6ce",
      "metadata": {
        "id": "3c8c67c8-b5c0-47f6-a663-18b2d6d9b6ce"
      },
      "source": [
        "In Python, you can use a try-except block to catch and handle exceptions. The try block contains the code that might raise an error, and the except block specifies how to handle the error if it occurs.\n",
        "implementing error handling with try-except blocks allows you to catch and handle exceptions, preventing your program from crashing and enabling you to handle errors in a controlled manner."
      ]
    },
    {
      "cell_type": "markdown",
      "id": "8d57453e-e3cc-4fa8-be1a-67d109e7e6c3",
      "metadata": {
        "id": "8d57453e-e3cc-4fa8-be1a-67d109e7e6c3"
      },
      "source": [
        "# 14. What is the purpose of the try clause? What is the purpose of the except clause?"
      ]
    },
    {
      "cell_type": "raw",
      "id": "556914ba-beaf-4cbb-95e2-ab1ac999696d",
      "metadata": {
        "id": "556914ba-beaf-4cbb-95e2-ab1ac999696d"
      },
      "source": [
        "the try clause encloses code that may raise an exception, providing a protective barrier, while the except clause defines the code to be executed when a specific exception occurs. Together, they enable you to handle exceptions and ensure the smooth execution of your program, even in the presence of errors."
      ]
    }
  ],
  "metadata": {
    "kernelspec": {
      "display_name": "Python 3 (ipykernel)",
      "language": "python",
      "name": "python3"
    },
    "language_info": {
      "codemirror_mode": {
        "name": "ipython",
        "version": 3
      },
      "file_extension": ".py",
      "mimetype": "text/x-python",
      "name": "python",
      "nbconvert_exporter": "python",
      "pygments_lexer": "ipython3",
      "version": "3.10.6"
    },
    "colab": {
      "provenance": []
    }
  },
  "nbformat": 4,
  "nbformat_minor": 5
}