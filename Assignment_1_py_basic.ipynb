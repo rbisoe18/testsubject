{
  "nbformat": 4,
  "nbformat_minor": 0,
  "metadata": {
    "colab": {
      "provenance": [],
      "collapsed_sections": []
    },
    "kernelspec": {
      "name": "python3",
      "display_name": "Python 3"
    },
    "language_info": {
      "name": "python"
    }
  },
  "cells": [
    {
      "cell_type": "markdown",
      "source": [
        "\n",
        "\n",
        "```\n",
        "Assignment 1\n",
        "```\n",
        "\n"
      ],
      "metadata": {
        "id": "cE-udJ1zB3Tn"
      }
    },
    {
      "cell_type": "markdown",
      "source": [
        "\n",
        "\n",
        "---\n",
        "\n"
      ],
      "metadata": {
        "id": "PsZ5E58bQ-p6"
      }
    },
    {
      "cell_type": "markdown",
      "source": [
        "1. In the below elements which of them are values or an expression? eg:- values can be integer or string and expressions will be mathematical operators.\n",
        "* \n",
        "'hello'\n",
        "-87.8\n",
        "- \n",
        "/ \n",
        "+\t\n",
        "6 \n"
      ],
      "metadata": {
        "id": "dyrVDzzqBhGK"
      }
    },
    {
      "cell_type": "markdown",
      "source": [
        "Ans :"
      ],
      "metadata": {
        "id": "NhXGRRssB8R0"
      }
    },
    {
      "cell_type": "code",
      "execution_count": 1,
      "metadata": {
        "id": "R0Ci4FhVrt_Y",
        "colab": {
          "base_uri": "https://localhost:8080/"
        },
        "outputId": "36d8be57-c788-425b-d16e-9af1ca6b74e0"
      },
      "outputs": [
        {
          "output_type": "execute_result",
          "data": {
            "text/plain": [
              "str"
            ]
          },
          "metadata": {},
          "execution_count": 1
        }
      ],
      "source": [
        "type('hello') # String"
      ]
    },
    {
      "cell_type": "code",
      "source": [
        "type(87.8) # float"
      ],
      "metadata": {
        "colab": {
          "base_uri": "https://localhost:8080/"
        },
        "id": "Kl6LaJhLCNFc",
        "outputId": "1d29b3a9-86f7-4820-ac50-835e64982fa0"
      },
      "execution_count": 2,
      "outputs": [
        {
          "output_type": "execute_result",
          "data": {
            "text/plain": [
              "float"
            ]
          },
          "metadata": {},
          "execution_count": 2
        }
      ]
    },
    {
      "cell_type": "code",
      "source": [
        "type(-) # arithmatic operator (subtraction)"
      ],
      "metadata": {
        "colab": {
          "base_uri": "https://localhost:8080/",
          "height": 130
        },
        "id": "JpnWd_GgCQDs",
        "outputId": "0a132a94-62aa-4d76-e3b2-6d7312915634"
      },
      "execution_count": 3,
      "outputs": [
        {
          "output_type": "error",
          "ename": "SyntaxError",
          "evalue": "ignored",
          "traceback": [
            "\u001b[0;36m  File \u001b[0;32m\"<ipython-input-3-ccfa46dcab0d>\"\u001b[0;36m, line \u001b[0;32m1\u001b[0m\n\u001b[0;31m    type(-)\u001b[0m\n\u001b[0m          ^\u001b[0m\n\u001b[0;31mSyntaxError\u001b[0m\u001b[0;31m:\u001b[0m invalid syntax\n"
          ]
        }
      ]
    },
    {
      "cell_type": "code",
      "source": [
        "type(/ ) # arithmatic operator (true division)"
      ],
      "metadata": {
        "colab": {
          "base_uri": "https://localhost:8080/",
          "height": 130
        },
        "id": "wO8QNqxzCda7",
        "outputId": "9b99d515-9b40-48fe-8016-9a89330f7293"
      },
      "execution_count": 4,
      "outputs": [
        {
          "output_type": "error",
          "ename": "SyntaxError",
          "evalue": "ignored",
          "traceback": [
            "\u001b[0;36m  File \u001b[0;32m\"<ipython-input-4-f3c677a239af>\"\u001b[0;36m, line \u001b[0;32m1\u001b[0m\n\u001b[0;31m    type(/ )\u001b[0m\n\u001b[0m         ^\u001b[0m\n\u001b[0;31mSyntaxError\u001b[0m\u001b[0;31m:\u001b[0m invalid syntax\n"
          ]
        }
      ]
    },
    {
      "cell_type": "code",
      "source": [
        "type(+) # arithmatic operator (addition)"
      ],
      "metadata": {
        "colab": {
          "base_uri": "https://localhost:8080/",
          "height": 130
        },
        "id": "f5RnlJR8Im-D",
        "outputId": "070ca4be-14e7-4138-b6f4-5c0a1c4871a2"
      },
      "execution_count": 5,
      "outputs": [
        {
          "output_type": "error",
          "ename": "SyntaxError",
          "evalue": "ignored",
          "traceback": [
            "\u001b[0;36m  File \u001b[0;32m\"<ipython-input-5-2769ab92f63a>\"\u001b[0;36m, line \u001b[0;32m1\u001b[0m\n\u001b[0;31m    type(+)\u001b[0m\n\u001b[0m          ^\u001b[0m\n\u001b[0;31mSyntaxError\u001b[0m\u001b[0;31m:\u001b[0m invalid syntax\n"
          ]
        }
      ]
    },
    {
      "cell_type": "code",
      "source": [
        "type(6) # Integer"
      ],
      "metadata": {
        "colab": {
          "base_uri": "https://localhost:8080/"
        },
        "id": "sXAzDLw5IsYg",
        "outputId": "6073810b-4c30-483e-e69e-e8b8b7ddb6cc"
      },
      "execution_count": 6,
      "outputs": [
        {
          "output_type": "execute_result",
          "data": {
            "text/plain": [
              "int"
            ]
          },
          "metadata": {},
          "execution_count": 6
        }
      ]
    },
    {
      "cell_type": "markdown",
      "source": [
        "\n",
        "\n",
        "---\n",
        "\n"
      ],
      "metadata": {
        "id": "sWP4_N3xQ8jy"
      }
    },
    {
      "cell_type": "markdown",
      "source": [
        "2. What is the difference between string and variable?"
      ],
      "metadata": {
        "id": "Y3ctll58I208"
      }
    },
    {
      "cell_type": "markdown",
      "source": [
        "Ans:"
      ],
      "metadata": {
        "id": "44nlPtHQI4GI"
      }
    },
    {
      "cell_type": "markdown",
      "source": [
        "Variables are symbols that you can use to store data in a program. You can think of them as an empty box that you fill with some data or value.\n",
        "\n",
        "\n",
        "---\n",
        "\n",
        "\n",
        "Strings are data, so we can use them to fill up a variable. Declaring strings as variables can make it easier for us to work with strings throughout our Python programs.\n",
        "\n",
        "---\n",
        "\n",
        "A Variable is a store of information, and a String is a type of information you would store in a Variable. A String is usually words"
      ],
      "metadata": {
        "id": "NPhQe_Y1KcU6"
      }
    },
    {
      "cell_type": "markdown",
      "source": [
        "\n",
        "\n",
        "---\n",
        "\n"
      ],
      "metadata": {
        "id": "WJIB4qpZK6av"
      }
    },
    {
      "cell_type": "markdown",
      "source": [
        "3. Describe three different data types."
      ],
      "metadata": {
        "id": "BrEDSg8hK41p"
      }
    },
    {
      "cell_type": "markdown",
      "source": [
        "Ans:"
      ],
      "metadata": {
        "id": "0TaCeserK8O9"
      }
    },
    {
      "cell_type": "markdown",
      "source": [
        "A data type, in programming, is a classification that specifies which type of value a variable has and what type of mathematical, relational or logical operations can be applied to it without causing an error. A string, for example, is a data type that is used to classify text and an integer is a data type used to classify whole numbers.\n",
        "\n",
        "\n",
        "|Data Type|Used for|Example|\n",
        "|:-:|:-:|:-:|\n",
        "| **String** |Alphanumeric characters|hello world, Alice, Bob123|\n",
        "| **Integer** |Whole numbers|7,12,999|\n",
        "| **Float** |Number with a decimal point|3.15, 9.06, 00.13|\n",
        "| **Character** |Encoding text numerically|97 (in ASCII, 97 is a lower case 'a'|\n",
        "| **Boolean** |Representing logical values|TRUE, FALSE|\n"
      ],
      "metadata": {
        "id": "Iuf1MznoLOtq"
      }
    },
    {
      "cell_type": "markdown",
      "source": [
        "\n",
        "\n",
        "---\n",
        "\n"
      ],
      "metadata": {
        "id": "es_Iq8j4QkIO"
      }
    },
    {
      "cell_type": "markdown",
      "source": [
        "4. What is an expression made up of? What do all expressions do?"
      ],
      "metadata": {
        "id": "pJfKmtSbQIZL"
      }
    },
    {
      "cell_type": "markdown",
      "source": [
        "Ans :"
      ],
      "metadata": {
        "id": "wwUWg7RuQhdt"
      }
    },
    {
      "cell_type": "markdown",
      "source": [
        "An expression is a combination of values, variables, operators, and calls to functions. Expressions need to be evaluated. If you ask Python to print an expression, the interpreter evaluates the expression and displays the result."
      ],
      "metadata": {
        "id": "T2KxnnlLQeQN"
      }
    },
    {
      "cell_type": "markdown",
      "source": [
        "\n",
        "\n",
        "---\n",
        "\n"
      ],
      "metadata": {
        "id": "V9Cq5FmhQ556"
      }
    },
    {
      "cell_type": "markdown",
      "source": [
        "5. This assignment statements, like spam = 10. What is the difference between an expression and a statement?"
      ],
      "metadata": {
        "id": "YPZiaEOWQm-o"
      }
    },
    {
      "cell_type": "markdown",
      "source": [
        "Ans :"
      ],
      "metadata": {
        "id": "bD5vGfcOUJur"
      }
    },
    {
      "cell_type": "markdown",
      "source": [
        "In programming language terminology, an “expression” is a combination of values and functions that are combined and interpreted by the compiler to create a new value, as opposed to a “statement” which is just a standalone unit of execution and doesn't return anything."
      ],
      "metadata": {
        "id": "t4F-J0jHUIyT"
      }
    },
    {
      "cell_type": "markdown",
      "source": [
        "\n",
        "\n",
        "---\n",
        "\n"
      ],
      "metadata": {
        "id": "_4TBfuIvUXC3"
      }
    },
    {
      "cell_type": "markdown",
      "source": [
        "6. After running the following code, what does the variable bacon contain?\n",
        "bacon = 22\n",
        "bacon + 1\n"
      ],
      "metadata": {
        "id": "-4QciRK9UWUR"
      }
    },
    {
      "cell_type": "code",
      "source": [
        "bacon = 22\n",
        "\n",
        "bacon + 1\n",
        "\n",
        "print(bacon) "
      ],
      "metadata": {
        "colab": {
          "base_uri": "https://localhost:8080/"
        },
        "id": "H_BiV7tpUZEg",
        "outputId": "2a48a313-3725-436a-f128-65a94cabb721"
      },
      "execution_count": 9,
      "outputs": [
        {
          "output_type": "stream",
          "name": "stdout",
          "text": [
            "22\n"
          ]
        }
      ]
    },
    {
      "cell_type": "markdown",
      "source": [
        "\n",
        "\n",
        "---\n",
        "\n"
      ],
      "metadata": {
        "id": "ML-739APVXhD"
      }
    },
    {
      "cell_type": "markdown",
      "source": [
        "7. What should the values of the following two terms be?\n",
        "'spam' + 'spamspam' and 'spam' * 3\n"
      ],
      "metadata": {
        "id": "xSeJzGgVVYRs"
      }
    },
    {
      "cell_type": "code",
      "source": [
        "'spam' + 'spamspam'"
      ],
      "metadata": {
        "colab": {
          "base_uri": "https://localhost:8080/",
          "height": 35
        },
        "id": "JemLv-CRVdZt",
        "outputId": "0088aaca-38d3-415d-d91a-e8511da83239"
      },
      "execution_count": 10,
      "outputs": [
        {
          "output_type": "execute_result",
          "data": {
            "text/plain": [
              "'spamspamspam'"
            ],
            "application/vnd.google.colaboratory.intrinsic+json": {
              "type": "string"
            }
          },
          "metadata": {},
          "execution_count": 10
        }
      ]
    },
    {
      "cell_type": "code",
      "source": [
        "'spam' * 3"
      ],
      "metadata": {
        "colab": {
          "base_uri": "https://localhost:8080/",
          "height": 35
        },
        "id": "sapH2NUjWjTF",
        "outputId": "fb1b6b73-fc00-4358-ffd3-65e767b06440"
      },
      "execution_count": 11,
      "outputs": [
        {
          "output_type": "execute_result",
          "data": {
            "text/plain": [
              "'spamspamspam'"
            ],
            "application/vnd.google.colaboratory.intrinsic+json": {
              "type": "string"
            }
          },
          "metadata": {},
          "execution_count": 11
        }
      ]
    },
    {
      "cell_type": "markdown",
      "source": [
        "\n",
        "\n",
        "---\n",
        "\n"
      ],
      "metadata": {
        "id": "PmsOhGzjWp8p"
      }
    },
    {
      "cell_type": "markdown",
      "source": [
        "8. Why is eggs a valid variable name while 100 is invalid?"
      ],
      "metadata": {
        "id": "MHhgFutTWrAh"
      }
    },
    {
      "cell_type": "markdown",
      "source": [
        "Ans :"
      ],
      "metadata": {
        "id": "6-X_rIkzWu5h"
      }
    },
    {
      "cell_type": "markdown",
      "source": [
        "Because variable names cannot begin with a number"
      ],
      "metadata": {
        "id": "UU5tM720Xb0K"
      }
    },
    {
      "cell_type": "markdown",
      "source": [
        "\n",
        "\n",
        "---\n",
        "\n"
      ],
      "metadata": {
        "id": "bsljetuZXdoj"
      }
    }
  ]
}