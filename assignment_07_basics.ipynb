{
  "nbformat": 4,
  "nbformat_minor": 0,
  "metadata": {
    "colab": {
      "provenance": []
    },
    "kernelspec": {
      "name": "python3",
      "display_name": "Python 3"
    },
    "language_info": {
      "name": "python"
    }
  },
  "cells": [
    {
      "cell_type": "markdown",
      "source": [
        "# 1. What is the name of the feature responsible for generating Regex objects?"
      ],
      "metadata": {
        "id": "6Fjddh2MJUxg"
      }
    },
    {
      "cell_type": "markdown",
      "source": [
        " the re module is responsible for the generation of Regex objects, allowing you to work with regular expressions in Python for tasks such as pattern matching, searching, and substitution in strings."
      ],
      "metadata": {
        "id": "EA7S3_N6JjWE"
      }
    },
    {
      "cell_type": "markdown",
      "source": [
        "# 2. Why do raw strings often appear in Regex objects?"
      ],
      "metadata": {
        "id": "4ySHxm36JkF2"
      }
    },
    {
      "cell_type": "markdown",
      "source": [
        "\n",
        "\n",
        "*   Raw strings (denoted with an r prefix) are often used in Regex objects to prevent unwanted interpretation of escape sequences within the regular expression pattern.\n",
        "*   In Python, regular expressions often contain backslashes (\\) to represent special characters or escape sequences. However, backslashes are also used as escape characters in regular Python strings. This can lead to conflicts and unintended behavior when working with regular expressions.\n",
        "To avoid this, raw strings are commonly used in Regex objects. \n",
        "\n"
      ],
      "metadata": {
        "id": "gYXEQucqJ-S2"
      }
    },
    {
      "cell_type": "markdown",
      "source": [
        "# 3. What is the return value of the search() method?"
      ],
      "metadata": {
        "id": "6X_SWlAwKI5-"
      }
    },
    {
      "cell_type": "markdown",
      "source": [
        " the return value of the search() method is either a match object representing the result of a successful pattern match or None if no match is found."
      ],
      "metadata": {
        "id": "oRuluv6DKbPu"
      }
    },
    {
      "cell_type": "markdown",
      "source": [
        "# 4. From a Match item, how do you get the actual strings that match the pattern?"
      ],
      "metadata": {
        "id": "lGDpKl1zKcUv"
      }
    },
    {
      "cell_type": "markdown",
      "source": [
        "\n",
        "\n",
        "*   To retrieve the actual strings that match the pattern from a match object in Python, you can use the group() method.\n",
        "\n"
      ],
      "metadata": {
        "id": "9iln_sYPKy0e"
      }
    },
    {
      "cell_type": "markdown",
      "source": [
        "# 5. In the regex which created from the '(\\d\\d\\d)-(\\d\\d\\d-\\d\\d\\d\\d)'.what does group zero cover? Group 2? Group 1?"
      ],
      "metadata": {
        "id": "qtA6qm3uRnS4"
      }
    },
    {
      "cell_type": "code",
      "execution_count": 1,
      "metadata": {
        "colab": {
          "base_uri": "https://localhost:8080/"
        },
        "id": "KXc46uUfJPjd",
        "outputId": "c29ff5a9-9315-4b09-dce5-0b7e1c49fbd8"
      },
      "outputs": [
        {
          "output_type": "stream",
          "name": "stdout",
          "text": [
            "123-456-7890\n",
            "123\n",
            "456-7890\n"
          ]
        }
      ],
      "source": [
        "import re\n",
        "\n",
        "pattern = r'(\\d\\d\\d)-(\\d\\d\\d-\\d\\d\\d\\d)'\n",
        "string = '123-456-7890'\n",
        "\n",
        "match = re.search(pattern, string)\n",
        "if match:\n",
        "    group0 = match.group(0)\n",
        "    group1 = match.group(1)\n",
        "    group2 = match.group(2)\n",
        "\n",
        "    print(group0)  # Output: 123-456-7890\n",
        "    print(group1)  # Output: 123\n",
        "    print(group2)  # Output: 456-7890\n"
      ]
    },
    {
      "cell_type": "markdown",
      "source": [
        "# 6. In standard expression syntax, parentheses and intervals have distinct meanings. How can you tell a regex that you want it to fit real parentheses and periods?"
      ],
      "metadata": {
        "id": "KPMsUvQFSVac"
      }
    },
    {
      "cell_type": "code",
      "source": [
        "import re\n",
        "\n",
        "pattern = r'\\(example\\)\\.com'\n",
        "string = 'Visit (example).com for more information.'\n",
        "\n",
        "match = re.search(pattern, string)\n",
        "if match:\n",
        "    matched_string = match.group()\n",
        "    print(matched_string)  # Output: '(example).com'\n"
      ],
      "metadata": {
        "colab": {
          "base_uri": "https://localhost:8080/"
        },
        "id": "OAjAdwdHSCIR",
        "outputId": "69acf738-5939-4241-80c1-20f423df9b7e"
      },
      "execution_count": 2,
      "outputs": [
        {
          "output_type": "stream",
          "name": "stdout",
          "text": [
            "(example).com\n"
          ]
        }
      ]
    },
    {
      "cell_type": "markdown",
      "source": [
        "# 7. The findall() method returns a string list or a list of string tuples. What causes it to return one of the two options?"
      ],
      "metadata": {
        "id": "tbm4sbM5Sly3"
      }
    },
    {
      "cell_type": "markdown",
      "source": [
        "The findall() method in Python's regular expression module (re) returns a list of strings or a list of string tuples based on the presence of capturing groups in the regular expression pattern."
      ],
      "metadata": {
        "id": "tW9I5VlMS-yA"
      }
    },
    {
      "cell_type": "markdown",
      "source": [
        "# 8. In standard expressions, what does the | character mean?"
      ],
      "metadata": {
        "id": "i0RBDhIATBqo"
      }
    },
    {
      "cell_type": "markdown",
      "source": [
        "The | character allows you to specify multiple alternative patterns separated by the pipe symbol.\n",
        "It matches either the pattern on the left side of the | or the pattern on the right side.\n",
        "If any of the alternatives match, the overall match is considered successful."
      ],
      "metadata": {
        "id": "5lTgC9FNTUPy"
      }
    },
    {
      "cell_type": "markdown",
      "source": [
        "# 9. In regular expressions, what does the character stand for?"
      ],
      "metadata": {
        "id": "o-v9fFo1TVUA"
      }
    },
    {
      "cell_type": "markdown",
      "source": [
        "In regular expressions, the . (dot) character represents a wildcard or placeholder that matches any single character except for a newline character."
      ],
      "metadata": {
        "id": "tvpLNtPfTqEI"
      }
    },
    {
      "cell_type": "markdown",
      "source": [
        "# 10.In regular expressions, what is the difference between the + and * characters?"
      ],
      "metadata": {
        "id": "loYzx4ivTqvg"
      }
    },
    {
      "cell_type": "markdown",
      "source": [
        "the + quantifier requires one or more occurrences of the preceding element, while the * quantifier allows zero or more occurrences of the preceding element, including an empty string."
      ],
      "metadata": {
        "id": "mezo0_QTT34R"
      }
    },
    {
      "cell_type": "markdown",
      "source": [
        "# 11. What is the difference between {4} and {4,5} in regular expression?"
      ],
      "metadata": {
        "id": "PfSRIVZbT8OQ"
      }
    },
    {
      "cell_type": "markdown",
      "source": [
        "{4} specifies exactly four occurrences of the preceding element, while {4,5} specifies a range of occurrences between four and five of the preceding element."
      ],
      "metadata": {
        "id": "iBQed44wUJBI"
      }
    },
    {
      "cell_type": "markdown",
      "source": [
        "# 12. What do you mean by the \\d, \\w, and \\s shorthand character classes signify in regular expressions?"
      ],
      "metadata": {
        "id": "1nIw8KRRULkJ"
      }
    },
    {
      "cell_type": "markdown",
      "source": [
        "\n",
        "1.   \\d matches any digit character (0-9).\n",
        "2.   \\w matches any alphanumeric character (a-z, A-Z, 0-9, and underscore _).\n",
        "3.   \\s matches any whitespace character (spaces, tabs, newlines, etc.).\n"
      ],
      "metadata": {
        "id": "FsqZQScPUeLx"
      }
    },
    {
      "cell_type": "markdown",
      "source": [
        "# 13. What do means by \\D, \\W, and \\S shorthand character classes signify in regular expressions?"
      ],
      "metadata": {
        "id": "PQkk7GhcUm7Y"
      }
    },
    {
      "cell_type": "markdown",
      "source": [
        "\\D matches any non-digit character (anything except 0-9).\n",
        "\\W matches any non-alphanumeric character (anything except a-z, A-Z, 0-9, and underscore _).\n",
        "\\S matches any non-whitespace character (anything except spaces, tabs, newlines, etc.)."
      ],
      "metadata": {
        "id": "TCU9DwciUvfD"
      }
    },
    {
      "cell_type": "markdown",
      "source": [
        "# 14. What is the difference between .*? and .*?"
      ],
      "metadata": {
        "id": "smRrEXPAUw0a"
      }
    },
    {
      "cell_type": "markdown",
      "source": [
        ".* is a greedy match that tries to consume as much text as possible, while .*? is a non-greedy match that tries to consume as little text as possible. The choice between them depends on the specific requirements of your regular expression pattern and the desired behavior of matching."
      ],
      "metadata": {
        "id": "lth4GqX9U-1A"
      }
    },
    {
      "cell_type": "markdown",
      "source": [
        "# 15. What is the syntax for matching both numbers and lowercase letters with a character class?"
      ],
      "metadata": {
        "id": "GJXntyudVADR"
      }
    },
    {
      "cell_type": "markdown",
      "source": [
        " the syntax [0-9a-z] allows you to define a character class that matches both numbers (0-9) and lowercase letters (a-z) in regular expressions."
      ],
      "metadata": {
        "id": "wJBGwP7qVPMY"
      }
    },
    {
      "cell_type": "markdown",
      "source": [
        "# 16. What is the procedure for making a normal expression in regax case insensitive?"
      ],
      "metadata": {
        "id": "urJ5yXk_VQDZ"
      }
    },
    {
      "cell_type": "markdown",
      "source": [
        " by using the re.IGNORECASE or re.I flag when compiling the regular expression pattern, you can make it case insensitive, allowing the pattern to match both uppercase and lowercase characters."
      ],
      "metadata": {
        "id": "57hxdXIrVauA"
      }
    },
    {
      "cell_type": "markdown",
      "source": [
        "# 17. What does the . character normally match? What does it match if re.DOTALL is passed as 2nd argument in re.compile()?"
      ],
      "metadata": {
        "id": "Ob2JI0wKVdCQ"
      }
    },
    {
      "cell_type": "markdown",
      "source": [
        "the . character in regular expressions normally matches any character except a newline. However, with the re.DOTALL flag, the . character matches any character, including newline characters."
      ],
      "metadata": {
        "id": "fDK8aQ1JV0Hw"
      }
    },
    {
      "cell_type": "markdown",
      "source": [
        "# 18. If numReg = re.compile(r'\\d+'), what will numRegex.sub('X', '11 drummers, 10 pipers, five rings, 4 hen') return?"
      ],
      "metadata": {
        "id": "kdno_7PoV2cg"
      }
    },
    {
      "cell_type": "markdown",
      "source": [
        "numReg.sub('X', '11 drummers, 10 pipers, five rings, 4 hen') replaces all occurrences of consecutive digits in the input string with the letter 'X'."
      ],
      "metadata": {
        "id": "EjCupDsCWcs4"
      }
    },
    {
      "cell_type": "markdown",
      "source": [
        "# 19. What does passing re.VERBOSE as the 2nd argument to re.compile() allow to do?"
      ],
      "metadata": {
        "id": "TvXdOtLoWdiI"
      }
    },
    {
      "cell_type": "markdown",
      "source": [
        "when re.VERBOSE is passed as the second argument to re.compile(), it allows you to write more readable and organized regular expression patterns by adding whitespace and comments."
      ],
      "metadata": {
        "id": "jB5Fih4QWqso"
      }
    },
    {
      "cell_type": "markdown",
      "source": [
        "# 20. How would you write a regex that match a number with comma for every three digits? It must match the given following: '42' '1,234' '6,368,745'"
      ],
      "metadata": {
        "id": "UjE53D5hWrio"
      }
    },
    {
      "cell_type": "markdown",
      "source": [
        " the regular expression r'^\\d{1,3}(,\\d{3})*$' matches numbers with commas separating every three digits."
      ],
      "metadata": {
        "id": "9Cg-nyW3XBMp"
      }
    },
    {
      "cell_type": "code",
      "source": [
        "import re\n",
        "\n",
        "pattern = re.compile(r'^\\d{1,3}(,\\d{3})*$')\n",
        "\n",
        "numbers = ['42', '1,234', '6,368,745']\n",
        "for number in numbers:\n",
        "    if pattern.match(number):\n",
        "        print('Match found:', number)\n",
        "    else:\n",
        "        print('No match found:', number)\n"
      ],
      "metadata": {
        "colab": {
          "base_uri": "https://localhost:8080/"
        },
        "id": "LkFGZsBxShNx",
        "outputId": "3ec45aa8-2625-4a24-8c1a-2a642ed7350f"
      },
      "execution_count": 3,
      "outputs": [
        {
          "output_type": "stream",
          "name": "stdout",
          "text": [
            "Match found: 42\n",
            "Match found: 1,234\n",
            "Match found: 6,368,745\n"
          ]
        }
      ]
    },
    {
      "cell_type": "code",
      "source": [],
      "metadata": {
        "id": "sTslGkNzXGUa"
      },
      "execution_count": null,
      "outputs": []
    }
  ]
}