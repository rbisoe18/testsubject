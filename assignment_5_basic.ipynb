{
  "nbformat": 4,
  "nbformat_minor": 0,
  "metadata": {
    "colab": {
      "provenance": []
    },
    "kernelspec": {
      "name": "python3",
      "display_name": "Python 3"
    },
    "language_info": {
      "name": "python"
    }
  },
  "cells": [
    {
      "cell_type": "markdown",
      "source": [
        "# 1. What does an empty dictionary&#39;s code look like?"
      ],
      "metadata": {
        "id": "CAC2CcBE-PG-"
      }
    },
    {
      "cell_type": "code",
      "execution_count": 1,
      "metadata": {
        "id": "Ht3ENsgR-J_9"
      },
      "outputs": [],
      "source": [
        "empty_dict = {}"
      ]
    },
    {
      "cell_type": "markdown",
      "source": [
        "# 2. What is the value of a dictionary value with the key 'foo' and the value 42?"
      ],
      "metadata": {
        "id": "QMzI7SSc-aUs"
      }
    },
    {
      "cell_type": "code",
      "source": [
        "my_dict = {'foo': 42}\n",
        "\n",
        "value = my_dict['foo']\n",
        "print(value)  # Output: 42\n"
      ],
      "metadata": {
        "colab": {
          "base_uri": "https://localhost:8080/"
        },
        "id": "LsPYVJes-WPx",
        "outputId": "ca40dc61-6ae4-400f-cb4f-373e002ff344"
      },
      "execution_count": 6,
      "outputs": [
        {
          "output_type": "stream",
          "name": "stdout",
          "text": [
            "42\n"
          ]
        }
      ]
    },
    {
      "cell_type": "markdown",
      "source": [
        "# 3. What is the most significant distinction between a dictionary and a list?"
      ],
      "metadata": {
        "id": "d0MW2IVq-0--"
      }
    },
    {
      "cell_type": "markdown",
      "source": [
        "dictionaries provide a mapping of unique keys to values, while lists provide an ordered collection of elements. Dictionaries are ideal for accessing values based on keys, while lists are useful when the order and duplication of elements matter."
      ],
      "metadata": {
        "id": "mPyzLyyo_Cz9"
      }
    },
    {
      "cell_type": "markdown",
      "source": [
        "# 4. What happens if you try to access spam['foo'] if spam is {'bar': 100}?"
      ],
      "metadata": {
        "id": "MjN5jL4n_Gpd"
      }
    },
    {
      "cell_type": "code",
      "source": [
        "spam = {'bar': 100}\n",
        "value = spam['foo']\n",
        " # it will arise key error | KeyError: 'foo'"
      ],
      "metadata": {
        "id": "EFZEqPO9-q27"
      },
      "execution_count": null,
      "outputs": []
    },
    {
      "cell_type": "markdown",
      "source": [
        "# 5. If a dictionary is stored in spam, what is the difference between the expressions 'cat' in spam and 'cat'; in spam.keys()?"
      ],
      "metadata": {
        "id": "nbvqqnQ3_jLl"
      }
    },
    {
      "cell_type": "markdown",
      "source": [
        "both expressions provide the same result in terms of checking the presence of the key 'cat' in the dictionary spam. However, the second expression explicitly retrieves all the keys using spam.keys(), which can be useful if you need to access or iterate over all the keys in the dictionary."
      ],
      "metadata": {
        "id": "qq4FhOMM_3mM"
      }
    },
    {
      "cell_type": "markdown",
      "source": [
        "# 6. If a dictionary is stored in spam, what is the difference between the expressions 'cat' in spam and 'cat' in spam.values()?"
      ],
      "metadata": {
        "id": "lDM5EgdD_4zf"
      }
    },
    {
      "cell_type": "markdown",
      "source": [
        "'cat' in spam checks for the presence of the value 'cat' within any of the values in the dictionary spam, while 'cat' in spam.values() explicitly retrieves all the values and checks if the value 'cat' is among them."
      ],
      "metadata": {
        "id": "i183C4wdAMuV"
      }
    },
    {
      "cell_type": "markdown",
      "source": [
        "# 7. What is a shortcut for the following code?\n"
      ],
      "metadata": {
        "id": "wTQZRC6eAQ6H"
      }
    },
    {
      "cell_type": "code",
      "source": [
        "if 'color' not in spam:\n",
        "spam['color'] = 'black'"
      ],
      "metadata": {
        "id": "SQRUxvlX_YXY"
      },
      "execution_count": null,
      "outputs": []
    },
    {
      "cell_type": "markdown",
      "source": [
        "spam.setdefault('color', 'black')\n",
        "\n",
        "1.   The setdefault() method checks if the specified key ('color' in this case) is present in the dictionary (spam). If the key is present, it returns the corresponding value\n",
        "\n",
        "\n",
        "\n"
      ],
      "metadata": {
        "id": "N7oz-80wAyCU"
      }
    },
    {
      "cell_type": "markdown",
      "source": [
        "# 8. How do you \"pretty empty\" dictionary values using which module and function?"
      ],
      "metadata": {
        "id": "vUtF7nXPBGht"
      }
    },
    {
      "cell_type": "code",
      "source": [
        "import pprint\n",
        "\n",
        "empty_dict = {}\n",
        "pprint.pprint(empty_dict)\n"
      ],
      "metadata": {
        "colab": {
          "base_uri": "https://localhost:8080/"
        },
        "id": "oC08SMn-BDbv",
        "outputId": "f4af0546-dca1-4a1f-8ad8-1ce861f59cf6"
      },
      "execution_count": 10,
      "outputs": [
        {
          "output_type": "stream",
          "name": "stdout",
          "text": [
            "{}\n"
          ]
        }
      ]
    },
    {
      "cell_type": "code",
      "source": [],
      "metadata": {
        "id": "fFLTMA7uBm22"
      },
      "execution_count": null,
      "outputs": []
    }
  ]
}