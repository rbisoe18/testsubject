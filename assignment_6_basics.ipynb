{
  "nbformat": 4,
  "nbformat_minor": 0,
  "metadata": {
    "colab": {
      "provenance": []
    },
    "kernelspec": {
      "name": "python3",
      "display_name": "Python 3"
    },
    "language_info": {
      "name": "python"
    }
  },
  "cells": [
    {
      "cell_type": "markdown",
      "source": [
        "# 1. What are escape characters, and how do you use them?"
      ],
      "metadata": {
        "id": "e1d5riX5ChDh"
      }
    },
    {
      "cell_type": "markdown",
      "source": [
        "Here are a few commonly used escape characters in Python:\n",
        "\n",
        "1.   \\n: Represents a newline character, creating a line break in the string.\n",
        "2.   \\t: Represents a tab character, adding horizontal spacing.\n",
        "3.   \\\\: Represents a literal backslash character.\n",
        "4.   \\\" or \\': Represents a double quote or single quote character, respectively, within a string.\n",
        "5.   \\r: Represents a carriage return, often used in combination with \\n to represent a Windows-style line ending.\n",
        "\n",
        "\n",
        "\n"
      ],
      "metadata": {
        "id": "M9nHBHFfC0gp"
      }
    },
    {
      "cell_type": "markdown",
      "source": [
        "# 2. What do the escape characters n and t stand for?"
      ],
      "metadata": {
        "id": "bYDiWnUKDJR1"
      }
    },
    {
      "cell_type": "markdown",
      "source": [
        "\n",
        "\n",
        "1.   \\n represents a newline character. When it is encountered within a string, it creates a line break, moving the cursor to the beginning of the next line.\n",
        "2.   \\t represents a tab character. It adds horizontal spacing and is typically used for indentation or aligning text in a formatted manner.\n"
      ],
      "metadata": {
        "id": "mtPobvITDS0t"
      }
    },
    {
      "cell_type": "markdown",
      "source": [
        "# 3. What is the way to include backslash characters in a string?"
      ],
      "metadata": {
        "id": "xOIW1fjFDdgV"
      }
    },
    {
      "cell_type": "markdown",
      "source": [
        "To include a backslash character (\\) within a string, you can use the escape character \\\\."
      ],
      "metadata": {
        "id": "12VSy8pYDmmG"
      }
    },
    {
      "cell_type": "code",
      "execution_count": 1,
      "metadata": {
        "colab": {
          "base_uri": "https://localhost:8080/"
        },
        "id": "gk-HtsQBCdL4",
        "outputId": "bd20665a-af9a-41b1-a5b2-36d936440194"
      },
      "outputs": [
        {
          "output_type": "stream",
          "name": "stdout",
          "text": [
            "This is a backslash: \\\n"
          ]
        }
      ],
      "source": [
        "print(\"This is a backslash: \\\\\")  # Output: This is a backslash: \\\n"
      ]
    },
    {
      "cell_type": "markdown",
      "source": [
        "# 4. The string \"Howl's Moving Castle\" is a correct value. Why isn't the single quote character in the word Howl's not escaped a problem?"
      ],
      "metadata": {
        "id": "8N9uotw3DsTF"
      }
    },
    {
      "cell_type": "markdown",
      "source": [
        "In the string \"Howl's Moving Castle\", the single quote character within the word \"Howl's\" does not need to be escaped because the string is enclosed in double quotes (\"). In Python, single quotes (') and double quotes (\") can both be used to define string literals.\n",
        "\n",
        "When a string is enclosed in one type of quote, the other type can be used directly within the string without needing to escape it. "
      ],
      "metadata": {
        "id": "oVVqR1SQESTd"
      }
    },
    {
      "cell_type": "code",
      "source": [
        "print(\"I said, 'Hello!'\")  # Output: I said, 'Hello!'\n"
      ],
      "metadata": {
        "colab": {
          "base_uri": "https://localhost:8080/"
        },
        "id": "P7JPO6RyDpU3",
        "outputId": "413aff08-daf8-4d33-fa5a-708afb5785ab"
      },
      "execution_count": 2,
      "outputs": [
        {
          "output_type": "stream",
          "name": "stdout",
          "text": [
            "I said, 'Hello!'\n"
          ]
        }
      ]
    },
    {
      "cell_type": "markdown",
      "source": [
        "# 5. How do you write a string of newlines if you don't want to use the character?"
      ],
      "metadata": {
        "id": "rlRE8uuGEY6V"
      }
    },
    {
      "cell_type": "markdown",
      "source": [
        "If you don't want to use the newline character (\\n) directly in a string and still want to represent a string with multiple lines, you can use triple quotes (\"\"\" or ''') to create a multiline string. This allows you to write the string with line breaks in a more natural and readable way."
      ],
      "metadata": {
        "id": "SxTT_fYzEy1w"
      }
    },
    {
      "cell_type": "code",
      "source": [
        "multiline_string = \"\"\"This is a\n",
        "multiline\n",
        "string.\"\"\"\n",
        "\n",
        "print(multiline_string)\n"
      ],
      "metadata": {
        "colab": {
          "base_uri": "https://localhost:8080/"
        },
        "id": "i-Q_N9jLEYVm",
        "outputId": "4cbbfe4f-7c1a-4764-fb89-d504bbd9267e"
      },
      "execution_count": 3,
      "outputs": [
        {
          "output_type": "stream",
          "name": "stdout",
          "text": [
            "This is a\n",
            "multiline\n",
            "string.\n"
          ]
        }
      ]
    },
    {
      "cell_type": "markdown",
      "source": [
        "# 6. What are the values of the given expressions?\n",
        "\n",
        "*   'Hello, world!'[1]\n",
        "*   'Hello, world!'[0:5]\n",
        "*   'Hello, world!'[:5]\n",
        "*   'Hello, world!'[3:]\n"
      ],
      "metadata": {
        "id": "2lm_kntRE2m1"
      }
    },
    {
      "cell_type": "code",
      "source": [
        "'Hello, world!'[1]"
      ],
      "metadata": {
        "colab": {
          "base_uri": "https://localhost:8080/",
          "height": 36
        },
        "id": "79IPIrIdE1gc",
        "outputId": "36fd799e-997f-4445-8b71-4b83aeb4fc5f"
      },
      "execution_count": 4,
      "outputs": [
        {
          "output_type": "execute_result",
          "data": {
            "text/plain": [
              "'e'"
            ],
            "application/vnd.google.colaboratory.intrinsic+json": {
              "type": "string"
            }
          },
          "metadata": {},
          "execution_count": 4
        }
      ]
    },
    {
      "cell_type": "code",
      "source": [
        "'Hello, world!'[0:5]"
      ],
      "metadata": {
        "colab": {
          "base_uri": "https://localhost:8080/",
          "height": 36
        },
        "id": "WdpnLrlzFXtJ",
        "outputId": "81eccc5c-3138-4527-86f4-e3fae77359b4"
      },
      "execution_count": 5,
      "outputs": [
        {
          "output_type": "execute_result",
          "data": {
            "text/plain": [
              "'Hello'"
            ],
            "application/vnd.google.colaboratory.intrinsic+json": {
              "type": "string"
            }
          },
          "metadata": {},
          "execution_count": 5
        }
      ]
    },
    {
      "cell_type": "code",
      "source": [
        "'Hello, world!'[:5]"
      ],
      "metadata": {
        "colab": {
          "base_uri": "https://localhost:8080/",
          "height": 36
        },
        "id": "RKusOs8UFZpW",
        "outputId": "0ab312ac-036b-4ba6-a8ca-8a2ea3505f0b"
      },
      "execution_count": 6,
      "outputs": [
        {
          "output_type": "execute_result",
          "data": {
            "text/plain": [
              "'Hello'"
            ],
            "application/vnd.google.colaboratory.intrinsic+json": {
              "type": "string"
            }
          },
          "metadata": {},
          "execution_count": 6
        }
      ]
    },
    {
      "cell_type": "code",
      "source": [
        "'Hello, world!'[3:]"
      ],
      "metadata": {
        "colab": {
          "base_uri": "https://localhost:8080/",
          "height": 36
        },
        "id": "uKYsskeKFast",
        "outputId": "05fc8725-8b31-4df7-8264-445029615142"
      },
      "execution_count": 7,
      "outputs": [
        {
          "output_type": "execute_result",
          "data": {
            "text/plain": [
              "'lo, world!'"
            ],
            "application/vnd.google.colaboratory.intrinsic+json": {
              "type": "string"
            }
          },
          "metadata": {},
          "execution_count": 7
        }
      ]
    },
    {
      "cell_type": "markdown",
      "source": [
        "# 7. What are the values of the following expressions?\n",
        "\n",
        "*   'Hello'.upper()\n",
        "*   'Hello'.upper().isupper()\n",
        "*   'Hello'.upper().lower()\n"
      ],
      "metadata": {
        "id": "4QLHBwXCFfEN"
      }
    },
    {
      "cell_type": "code",
      "source": [
        "'Hello'.upper()"
      ],
      "metadata": {
        "colab": {
          "base_uri": "https://localhost:8080/",
          "height": 36
        },
        "id": "BKA1RqY-FdMt",
        "outputId": "f3bb97c8-ff50-4398-d8a7-6afc67c051bd"
      },
      "execution_count": 8,
      "outputs": [
        {
          "output_type": "execute_result",
          "data": {
            "text/plain": [
              "'HELLO'"
            ],
            "application/vnd.google.colaboratory.intrinsic+json": {
              "type": "string"
            }
          },
          "metadata": {},
          "execution_count": 8
        }
      ]
    },
    {
      "cell_type": "code",
      "source": [
        "'Hello'.upper().isupper()"
      ],
      "metadata": {
        "colab": {
          "base_uri": "https://localhost:8080/"
        },
        "id": "75KEshwYGsrX",
        "outputId": "892ba387-d989-4861-dcc0-63c0b172610e"
      },
      "execution_count": 9,
      "outputs": [
        {
          "output_type": "execute_result",
          "data": {
            "text/plain": [
              "True"
            ]
          },
          "metadata": {},
          "execution_count": 9
        }
      ]
    },
    {
      "cell_type": "code",
      "source": [
        "'Hello'.upper().lower()"
      ],
      "metadata": {
        "colab": {
          "base_uri": "https://localhost:8080/",
          "height": 36
        },
        "id": "pTFkFTvGGt1V",
        "outputId": "1b149373-e391-4bfb-bf30-58033096d915"
      },
      "execution_count": 11,
      "outputs": [
        {
          "output_type": "execute_result",
          "data": {
            "text/plain": [
              "'hello'"
            ],
            "application/vnd.google.colaboratory.intrinsic+json": {
              "type": "string"
            }
          },
          "metadata": {},
          "execution_count": 11
        }
      ]
    },
    {
      "cell_type": "markdown",
      "source": [
        "# 8. What are the values of the following expressions?\n",
        "\n",
        "*   'Remember, remember, the fifth of July.'.split()\n",
        "*   '-'.join('There can only one.'.split())"
      ],
      "metadata": {
        "id": "CBhN83lXGzHI"
      }
    },
    {
      "cell_type": "code",
      "source": [
        "'Remember, remember, the fifth of July.'.split()"
      ],
      "metadata": {
        "colab": {
          "base_uri": "https://localhost:8080/"
        },
        "id": "vPpNVpr9Gv51",
        "outputId": "2d53a9a5-5a05-422b-c5eb-6e7d3843a1e2"
      },
      "execution_count": 12,
      "outputs": [
        {
          "output_type": "execute_result",
          "data": {
            "text/plain": [
              "['Remember,', 'remember,', 'the', 'fifth', 'of', 'July.']"
            ]
          },
          "metadata": {},
          "execution_count": 12
        }
      ]
    },
    {
      "cell_type": "code",
      "source": [
        "'-'.join('There can only one.'.split())"
      ],
      "metadata": {
        "colab": {
          "base_uri": "https://localhost:8080/",
          "height": 36
        },
        "id": "CAM1X9yKHDxN",
        "outputId": "3e5b1282-71cd-46be-9f4e-e1352b435ae3"
      },
      "execution_count": 13,
      "outputs": [
        {
          "output_type": "execute_result",
          "data": {
            "text/plain": [
              "'There-can-only-one.'"
            ],
            "application/vnd.google.colaboratory.intrinsic+json": {
              "type": "string"
            }
          },
          "metadata": {},
          "execution_count": 13
        }
      ]
    },
    {
      "cell_type": "markdown",
      "source": [
        "# 9. What are the methods for right-justifying, left-justifying, and centering a string?"
      ],
      "metadata": {
        "id": "jnNIh3PSHVkH"
      }
    },
    {
      "cell_type": "code",
      "source": [
        "string = \"Hello\"\n",
        "width = 10\n",
        "padded_string = string.rjust(width)"
      ],
      "metadata": {
        "id": "GwXhPtYjHF51"
      },
      "execution_count": null,
      "outputs": []
    },
    {
      "cell_type": "code",
      "source": [
        "string = \"Hello\"\n",
        "width = 10\n",
        "padded_string = string.ljust(width)\n"
      ],
      "metadata": {
        "id": "kNUktSiaHevF"
      },
      "execution_count": null,
      "outputs": []
    },
    {
      "cell_type": "code",
      "source": [
        "string = \"Hello\"\n",
        "width = 10\n",
        "padded_string = string.center(width)"
      ],
      "metadata": {
        "id": "NDDlGQ-CHgd1"
      },
      "execution_count": null,
      "outputs": []
    },
    {
      "cell_type": "markdown",
      "source": [
        "# 10. What is the best way to remove whitespace characters from the start or end?"
      ],
      "metadata": {
        "id": "R9FglUxxH5J-"
      }
    },
    {
      "cell_type": "markdown",
      "source": [
        "\n",
        "*   Using str.strip() is the recommended approach for removing leading and trailing whitespace \n",
        "*   If you only want to remove leading or trailing whitespace, you can use lstrip() or rstrip() respectively, which perform the same operation but only on one side of the string.\n"
      ],
      "metadata": {
        "id": "EmlcuPlFIlUp"
      }
    },
    {
      "cell_type": "code",
      "source": [
        "string = \"  Hello, world!  \"\n",
        "trimmed_string = string.strip()"
      ],
      "metadata": {
        "id": "JBgFSW_FHh9u"
      },
      "execution_count": null,
      "outputs": []
    },
    {
      "cell_type": "code",
      "source": [],
      "metadata": {
        "id": "pNe_uIPiIRjz"
      },
      "execution_count": null,
      "outputs": []
    }
  ]
}