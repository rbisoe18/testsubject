{
  "nbformat": 4,
  "nbformat_minor": 0,
  "metadata": {
    "colab": {
      "provenance": []
    },
    "kernelspec": {
      "name": "python3",
      "display_name": "Python 3"
    },
    "language_info": {
      "name": "python"
    }
  },
  "cells": [
    {
      "cell_type": "markdown",
      "source": [
        "# 1. What exactly is []?"
      ],
      "metadata": {
        "id": "QZKCwVyXN7bs"
      }
    },
    {
      "cell_type": "markdown",
      "source": [
        "The notation [] typically represents an empty list or an empty array,"
      ],
      "metadata": {
        "id": "YZG9SyqTOGFj"
      }
    },
    {
      "cell_type": "markdown",
      "source": [
        "# 2. In a list of values stored in a variable called spam, how would you assign the value hello; as the third value? (Assume [2, 4, 6, 8, 10] are in spam.)Let's pretend the spam includes the list ['a','b','c','d'] for the next three queries."
      ],
      "metadata": {
        "id": "u9rThr4EOHVL"
      }
    },
    {
      "cell_type": "code",
      "execution_count": 1,
      "metadata": {
        "id": "EuCIEkxRN1Hb"
      },
      "outputs": [],
      "source": [
        "spam = [2, 4, 6, 8, 10]\n",
        "spam[2] = \"hello\""
      ]
    },
    {
      "cell_type": "code",
      "source": [
        "spam = ['a', 'b', 'c', 'd']\n",
        "spam[2] = \"hello\""
      ],
      "metadata": {
        "id": "nWGUyXoxQUKq"
      },
      "execution_count": 2,
      "outputs": []
    },
    {
      "cell_type": "markdown",
      "source": [
        "# 3. What is the value of spam[int(int(&#39;3&#39; * 2) / 11)]?"
      ],
      "metadata": {
        "id": "liESwWpZOvHb"
      }
    },
    {
      "cell_type": "markdown",
      "source": [
        "The expression int('3' * 2) evaluates to the integer 33. Dividing 33 by 11 results in 3, considering integer division.\n",
        "\n",
        "Therefore, the expression spam[int(int('3' * 2) / 11)] can be simplified to spam[3].\n",
        "\n",
        "Given the list ['a', 'b', 'c', 'd'] stored in the variable spam, the value of spam[3] is 'd'."
      ],
      "metadata": {
        "id": "eN5b_XD1QzPL"
      }
    },
    {
      "cell_type": "markdown",
      "source": [
        "# 4. What is the value of spam[-1]?"
      ],
      "metadata": {
        "id": "Gu-7P-5iQ4ZC"
      }
    },
    {
      "cell_type": "code",
      "source": [
        "spam[-1] "
      ],
      "metadata": {
        "colab": {
          "base_uri": "https://localhost:8080/",
          "height": 36
        },
        "id": "WSh9gy-yOp8d",
        "outputId": "d9e658f1-1149-4b15-e9c1-993b4881dda9"
      },
      "execution_count": 3,
      "outputs": [
        {
          "output_type": "execute_result",
          "data": {
            "text/plain": [
              "'d'"
            ],
            "application/vnd.google.colaboratory.intrinsic+json": {
              "type": "string"
            }
          },
          "metadata": {},
          "execution_count": 3
        }
      ]
    },
    {
      "cell_type": "markdown",
      "source": [
        "# 5. What is the value of spam[:2]?"
      ],
      "metadata": {
        "id": "5E_Ev-VURC5l"
      }
    },
    {
      "cell_type": "code",
      "source": [
        "spam[:2]"
      ],
      "metadata": {
        "colab": {
          "base_uri": "https://localhost:8080/"
        },
        "id": "tB82A8M0Q-9c",
        "outputId": "6ffad950-b3ca-4a50-cb59-8bba33d4e8b3"
      },
      "execution_count": 4,
      "outputs": [
        {
          "output_type": "execute_result",
          "data": {
            "text/plain": [
              "['a', 'b']"
            ]
          },
          "metadata": {},
          "execution_count": 4
        }
      ]
    },
    {
      "cell_type": "markdown",
      "source": [
        "# Let&#39;s pretend bacon has the list [3.14, &#39;cat,&#39; 11, &#39;cat,&#39; True] for the next three questions.\n",
        "# 6. What is the value of bacon.index(&#39;cat&#39;)?"
      ],
      "metadata": {
        "id": "Bnr588PVRMCl"
      }
    },
    {
      "cell_type": "code",
      "source": [
        "bacon = [3.14,'cat' ,11, 'cat' ,True]\n",
        "\n",
        "bacon.index('cat')"
      ],
      "metadata": {
        "colab": {
          "base_uri": "https://localhost:8080/"
        },
        "id": "220_-SiORE76",
        "outputId": "29c53034-9928-4f7a-efd4-335b10270903"
      },
      "execution_count": 11,
      "outputs": [
        {
          "output_type": "execute_result",
          "data": {
            "text/plain": [
              "1"
            ]
          },
          "metadata": {},
          "execution_count": 11
        }
      ]
    },
    {
      "cell_type": "markdown",
      "source": [
        "# 7. How does bacon.append(99) change the look of the list value in bacon?"
      ],
      "metadata": {
        "id": "HtHAnh3KRowr"
      }
    },
    {
      "cell_type": "code",
      "source": [
        "bacon.append(99)\n",
        "bacon"
      ],
      "metadata": {
        "colab": {
          "base_uri": "https://localhost:8080/"
        },
        "id": "yJdgsdlsRWky",
        "outputId": "c2b361ed-863d-4b92-b2b5-433434b4dfa2"
      },
      "execution_count": 12,
      "outputs": [
        {
          "output_type": "execute_result",
          "data": {
            "text/plain": [
              "[3.14, 'cat', 11, 'cat', True, 99]"
            ]
          },
          "metadata": {},
          "execution_count": 12
        }
      ]
    },
    {
      "cell_type": "markdown",
      "source": [
        "# 8. How does bacon.remove('cat') change the look of the list in bacon?"
      ],
      "metadata": {
        "id": "8mqWSWMLR5nz"
      }
    },
    {
      "cell_type": "code",
      "source": [
        "bacon.remove('cat')\n",
        "bacon"
      ],
      "metadata": {
        "colab": {
          "base_uri": "https://localhost:8080/"
        },
        "id": "ZxvbRopMRse6",
        "outputId": "4a8d2154-cab8-419c-a659-5f396b25338f"
      },
      "execution_count": 13,
      "outputs": [
        {
          "output_type": "execute_result",
          "data": {
            "text/plain": [
              "[3.14, 11, 'cat', True, 99]"
            ]
          },
          "metadata": {},
          "execution_count": 13
        }
      ]
    },
    {
      "cell_type": "markdown",
      "source": [
        "# 9. What are the list concatenation and list replication operators?"
      ],
      "metadata": {
        "id": "rEN3bW6jSFfM"
      }
    },
    {
      "cell_type": "markdown",
      "source": [
        "List concatenation operator: + combines two lists into one.\n",
        "\n",
        "---\n",
        "\n",
        "\n",
        "\n",
        "---\n",
        "\n",
        "\n",
        "List replication operator: * replicates the elements of a list multiple times to create a new list."
      ],
      "metadata": {
        "id": "SLoB8KvVSPIL"
      }
    },
    {
      "cell_type": "markdown",
      "source": [
        "# 10. What is difference between the list methods append() and insert()?"
      ],
      "metadata": {
        "id": "_wqXInkGS27b"
      }
    },
    {
      "cell_type": "markdown",
      "source": [
        "\n",
        "\n",
        "*   append() adds an element to the end of the list.\n",
        "*   insert() inserts an element at a specific index, moving existing elements to accommodate the new element.\n",
        "\n"
      ],
      "metadata": {
        "id": "v55_UksBTFQT"
      }
    },
    {
      "cell_type": "markdown",
      "source": [
        "# 11. What are the two methods for removing items from a list?"
      ],
      "metadata": {
        "id": "15GhwRJnTXcd"
      }
    },
    {
      "cell_type": "markdown",
      "source": [
        "*   remove() removes the first occurrence of a specified element.\n",
        "*   pop() removes and returns the element at a specified index, with the option to remove the last element if no index is specified."
      ],
      "metadata": {
        "id": "oAIYa35yTh7j"
      }
    },
    {
      "cell_type": "markdown",
      "source": [
        "# 12. Describe how list values and string values are identical."
      ],
      "metadata": {
        "id": "_6cm6BlLTpn8"
      }
    },
    {
      "cell_type": "markdown",
      "source": [
        "List values and string values in Python share some similarities, such as being ordered sequences of elements.\n",
        "\n",
        "\n",
        "*   Sequential Structure\n",
        "*   Mutable and Immutable\n",
        "*   Indexing and Slicing\n",
        "*   Iteration\n",
        "\n",
        "\n",
        "\n"
      ],
      "metadata": {
        "id": "D8TQ__ewT2de"
      }
    },
    {
      "cell_type": "markdown",
      "source": [
        "# 13. Whats the difference between tuples and lists?"
      ],
      "metadata": {
        "id": "NX0NhhsdUIjd"
      }
    },
    {
      "cell_type": "markdown",
      "source": [
        "the main difference between tuples and lists is their mutability. Lists are mutable and can be modified, while tuples are immutable and cannot be modified once created."
      ],
      "metadata": {
        "id": "Si50GElVUT3F"
      }
    },
    {
      "cell_type": "markdown",
      "source": [
        "# 14. How do you type a tuple value that only contains the integer 42?"
      ],
      "metadata": {
        "id": "aYa7e9d6UVTl"
      }
    },
    {
      "cell_type": "markdown",
      "source": [
        "To type a tuple value that only contains the integer 42, you can use parentheses to define the tuple with a single element:\n",
        "\n",
        "(42)"
      ],
      "metadata": {
        "id": "pE0ASbBTUknM"
      }
    },
    {
      "cell_type": "markdown",
      "source": [
        "# 15. How do you get a list value&#39;s tuple form? How do you get a tuple value&#39;s list form?"
      ],
      "metadata": {
        "id": "rAxOtVIaUnl8"
      }
    },
    {
      "cell_type": "code",
      "source": [
        "my_list = [1, 2, 3]\n",
        "my_tuple = tuple(my_list)\n",
        "# Result: (1, 2, 3)\n",
        "my_tuple"
      ],
      "metadata": {
        "colab": {
          "base_uri": "https://localhost:8080/"
        },
        "id": "SrBUN6kFSBby",
        "outputId": "4a04735e-1130-4b20-9f41-a497c5cca20e"
      },
      "execution_count": 15,
      "outputs": [
        {
          "output_type": "execute_result",
          "data": {
            "text/plain": [
              "(1, 2, 3)"
            ]
          },
          "metadata": {},
          "execution_count": 15
        }
      ]
    },
    {
      "cell_type": "code",
      "source": [
        "my_tuple = (1, 2, 3)\n",
        "my_list = list(my_tuple)\n",
        "# Result: [1, 2, 3]\n",
        "my_list"
      ],
      "metadata": {
        "colab": {
          "base_uri": "https://localhost:8080/"
        },
        "id": "qBt0OZJAU2Rb",
        "outputId": "5a419c44-fc9c-4278-b4cd-1671999c18f2"
      },
      "execution_count": 16,
      "outputs": [
        {
          "output_type": "execute_result",
          "data": {
            "text/plain": [
              "[1, 2, 3]"
            ]
          },
          "metadata": {},
          "execution_count": 16
        }
      ]
    },
    {
      "cell_type": "markdown",
      "source": [
        "# 16. Variables that &quot;contain&quot; list values are not necessarily lists themselves. Instead, what do they contain?"
      ],
      "metadata": {
        "id": "UMmGRIAGVBk0"
      }
    },
    {
      "cell_type": "markdown",
      "source": [
        "Variables that \"contain\" list values in Python actually contain references to the list objects, not the lists themselves."
      ],
      "metadata": {
        "id": "EwYULAeCVPRD"
      }
    },
    {
      "cell_type": "markdown",
      "source": [
        "# 17. How do you distinguish between copy.copy() and copy.deepcopy()?"
      ],
      "metadata": {
        "id": "UTc4J_v5VRyd"
      }
    },
    {
      "cell_type": "markdown",
      "source": [
        "\n",
        "\n",
        "\n",
        "\n",
        "*   copy.copy() creates a shallow copy, which shares references to nested objects.\n",
        "*   copy.deepcopy() creates a deep copy, recursively copying all nested objects to ensure complete independence.\n"
      ],
      "metadata": {
        "id": "9xMHV1Q2VfXc"
      }
    },
    {
      "cell_type": "code",
      "source": [],
      "metadata": {
        "id": "h6TsZT1eVdNT"
      },
      "execution_count": null,
      "outputs": []
    }
  ]
}